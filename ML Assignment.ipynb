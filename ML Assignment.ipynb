{
 "cells": [
  {
   "cell_type": "markdown",
   "id": "8ebb8870",
   "metadata": {},
   "source": [
    "# ML ASSIGNMENT"
   ]
  },
  {
   "cell_type": "code",
   "execution_count": 1,
   "id": "0e849398",
   "metadata": {},
   "outputs": [],
   "source": [
    "import pandas as pd"
   ]
  },
  {
   "cell_type": "code",
   "execution_count": 2,
   "id": "a1677fae",
   "metadata": {},
   "outputs": [],
   "source": [
    "ba_mapping=pd.read_excel(\"C:/Users/karth/Downloads/ML Assignment (1)/ML Assignment/1 BA Mapping File.xlsx\")"
   ]
  },
  {
   "cell_type": "code",
   "execution_count": 3,
   "id": "ac5a45c1",
   "metadata": {},
   "outputs": [
    {
     "data": {
      "text/html": [
       "<div>\n",
       "<style scoped>\n",
       "    .dataframe tbody tr th:only-of-type {\n",
       "        vertical-align: middle;\n",
       "    }\n",
       "\n",
       "    .dataframe tbody tr th {\n",
       "        vertical-align: top;\n",
       "    }\n",
       "\n",
       "    .dataframe thead th {\n",
       "        text-align: right;\n",
       "    }\n",
       "</style>\n",
       "<table border=\"1\" class=\"dataframe\">\n",
       "  <thead>\n",
       "    <tr style=\"text-align: right;\">\n",
       "      <th></th>\n",
       "      <th>BA Code</th>\n",
       "      <th>BA Name</th>\n",
       "    </tr>\n",
       "  </thead>\n",
       "  <tbody>\n",
       "    <tr>\n",
       "      <th>0</th>\n",
       "      <td>22520</td>\n",
       "      <td>Ganesh Agencies(BA)</td>\n",
       "    </tr>\n",
       "    <tr>\n",
       "      <th>1</th>\n",
       "      <td>25591</td>\n",
       "      <td>Rohitha Agencies(BA)</td>\n",
       "    </tr>\n",
       "    <tr>\n",
       "      <th>2</th>\n",
       "      <td>23072</td>\n",
       "      <td>Surya Agency(BA)</td>\n",
       "    </tr>\n",
       "    <tr>\n",
       "      <th>3</th>\n",
       "      <td>22975</td>\n",
       "      <td>Naveen Agency(BA)</td>\n",
       "    </tr>\n",
       "    <tr>\n",
       "      <th>4</th>\n",
       "      <td>25303</td>\n",
       "      <td>Vimala Associates(BA)</td>\n",
       "    </tr>\n",
       "  </tbody>\n",
       "</table>\n",
       "</div>"
      ],
      "text/plain": [
       "   BA Code                BA Name\n",
       "0    22520    Ganesh Agencies(BA)\n",
       "1    25591   Rohitha Agencies(BA)\n",
       "2    23072       Surya Agency(BA)\n",
       "3    22975      Naveen Agency(BA)\n",
       "4    25303  Vimala Associates(BA)"
      ]
     },
     "execution_count": 3,
     "metadata": {},
     "output_type": "execute_result"
    }
   ],
   "source": [
    "ba_mapping.head()"
   ]
  },
  {
   "cell_type": "code",
   "execution_count": 4,
   "id": "285dcbee",
   "metadata": {},
   "outputs": [
    {
     "data": {
      "text/plain": [
       "BA Code    0\n",
       "BA Name    0\n",
       "dtype: int64"
      ]
     },
     "execution_count": 4,
     "metadata": {},
     "output_type": "execute_result"
    }
   ],
   "source": [
    "ba_mapping.isnull().sum()"
   ]
  },
  {
   "cell_type": "code",
   "execution_count": 5,
   "id": "01c6ad03",
   "metadata": {},
   "outputs": [],
   "source": [
    "salesman_mapping= pd.read_csv(\"C:/Users/karth/Downloads/ML Assignment (1)/ML Assignment/2 Salesman Mapping File.csv\",low_memory=False)"
   ]
  },
  {
   "cell_type": "code",
   "execution_count": 6,
   "id": "77ef5766",
   "metadata": {
    "scrolled": true
   },
   "outputs": [
    {
     "data": {
      "text/html": [
       "<div>\n",
       "<style scoped>\n",
       "    .dataframe tbody tr th:only-of-type {\n",
       "        vertical-align: middle;\n",
       "    }\n",
       "\n",
       "    .dataframe tbody tr th {\n",
       "        vertical-align: top;\n",
       "    }\n",
       "\n",
       "    .dataframe thead th {\n",
       "        text-align: right;\n",
       "    }\n",
       "</style>\n",
       "<table border=\"1\" class=\"dataframe\">\n",
       "  <thead>\n",
       "    <tr style=\"text-align: right;\">\n",
       "      <th></th>\n",
       "      <th>BA Code</th>\n",
       "      <th>BA Name</th>\n",
       "      <th>Salesman Code</th>\n",
       "      <th>Salesman Name</th>\n",
       "    </tr>\n",
       "  </thead>\n",
       "  <tbody>\n",
       "    <tr>\n",
       "      <th>0</th>\n",
       "      <td>22520.0</td>\n",
       "      <td>Ganesh Agencies(BA)</td>\n",
       "      <td>ISR03</td>\n",
       "      <td>GANESH</td>\n",
       "    </tr>\n",
       "    <tr>\n",
       "      <th>1</th>\n",
       "      <td>22520.0</td>\n",
       "      <td>Ganesh Agencies(BA)</td>\n",
       "      <td>ISR01</td>\n",
       "      <td>VENKAT</td>\n",
       "    </tr>\n",
       "    <tr>\n",
       "      <th>2</th>\n",
       "      <td>25591.0</td>\n",
       "      <td>Rohitha Agencies(BA)</td>\n",
       "      <td>SM01</td>\n",
       "      <td>SALES MAN</td>\n",
       "    </tr>\n",
       "    <tr>\n",
       "      <th>3</th>\n",
       "      <td>22520.0</td>\n",
       "      <td>Ganesh Agencies(BA)</td>\n",
       "      <td>ISR04</td>\n",
       "      <td>BALAJI</td>\n",
       "    </tr>\n",
       "    <tr>\n",
       "      <th>4</th>\n",
       "      <td>22520.0</td>\n",
       "      <td>Ganesh Agencies(BA)</td>\n",
       "      <td>ISR02</td>\n",
       "      <td>CHENDRASEKARAN</td>\n",
       "    </tr>\n",
       "    <tr>\n",
       "      <th>...</th>\n",
       "      <td>...</td>\n",
       "      <td>...</td>\n",
       "      <td>...</td>\n",
       "      <td>...</td>\n",
       "    </tr>\n",
       "    <tr>\n",
       "      <th>270048</th>\n",
       "      <td>NaN</td>\n",
       "      <td>NaN</td>\n",
       "      <td>NaN</td>\n",
       "      <td>NaN</td>\n",
       "    </tr>\n",
       "    <tr>\n",
       "      <th>270049</th>\n",
       "      <td>NaN</td>\n",
       "      <td>NaN</td>\n",
       "      <td>NaN</td>\n",
       "      <td>NaN</td>\n",
       "    </tr>\n",
       "    <tr>\n",
       "      <th>270050</th>\n",
       "      <td>NaN</td>\n",
       "      <td>NaN</td>\n",
       "      <td>NaN</td>\n",
       "      <td>NaN</td>\n",
       "    </tr>\n",
       "    <tr>\n",
       "      <th>270051</th>\n",
       "      <td>NaN</td>\n",
       "      <td>NaN</td>\n",
       "      <td>NaN</td>\n",
       "      <td>NaN</td>\n",
       "    </tr>\n",
       "    <tr>\n",
       "      <th>270052</th>\n",
       "      <td>NaN</td>\n",
       "      <td>NaN</td>\n",
       "      <td>NaN</td>\n",
       "      <td>NaN</td>\n",
       "    </tr>\n",
       "  </tbody>\n",
       "</table>\n",
       "<p>270053 rows × 4 columns</p>\n",
       "</div>"
      ],
      "text/plain": [
       "        BA Code               BA Name Salesman Code   Salesman Name\n",
       "0       22520.0   Ganesh Agencies(BA)         ISR03          GANESH\n",
       "1       22520.0   Ganesh Agencies(BA)         ISR01          VENKAT\n",
       "2       25591.0  Rohitha Agencies(BA)          SM01       SALES MAN\n",
       "3       22520.0   Ganesh Agencies(BA)         ISR04          BALAJI\n",
       "4       22520.0   Ganesh Agencies(BA)         ISR02  CHENDRASEKARAN\n",
       "...         ...                   ...           ...             ...\n",
       "270048      NaN                   NaN           NaN             NaN\n",
       "270049      NaN                   NaN           NaN             NaN\n",
       "270050      NaN                   NaN           NaN             NaN\n",
       "270051      NaN                   NaN           NaN             NaN\n",
       "270052      NaN                   NaN           NaN             NaN\n",
       "\n",
       "[270053 rows x 4 columns]"
      ]
     },
     "execution_count": 6,
     "metadata": {},
     "output_type": "execute_result"
    }
   ],
   "source": [
    "salesman_mapping"
   ]
  },
  {
   "cell_type": "code",
   "execution_count": 7,
   "id": "fc5a1561",
   "metadata": {},
   "outputs": [
    {
     "data": {
      "text/plain": [
       "(270053, 4)"
      ]
     },
     "execution_count": 7,
     "metadata": {},
     "output_type": "execute_result"
    }
   ],
   "source": [
    "salesman_mapping.shape"
   ]
  },
  {
   "cell_type": "code",
   "execution_count": 8,
   "id": "bb267b0c",
   "metadata": {},
   "outputs": [
    {
     "data": {
      "text/html": [
       "<div>\n",
       "<style scoped>\n",
       "    .dataframe tbody tr th:only-of-type {\n",
       "        vertical-align: middle;\n",
       "    }\n",
       "\n",
       "    .dataframe tbody tr th {\n",
       "        vertical-align: top;\n",
       "    }\n",
       "\n",
       "    .dataframe thead th {\n",
       "        text-align: right;\n",
       "    }\n",
       "</style>\n",
       "<table border=\"1\" class=\"dataframe\">\n",
       "  <thead>\n",
       "    <tr style=\"text-align: right;\">\n",
       "      <th></th>\n",
       "      <th>BA Code</th>\n",
       "      <th>BA Name</th>\n",
       "      <th>Salesman Code</th>\n",
       "      <th>Salesman Name</th>\n",
       "    </tr>\n",
       "  </thead>\n",
       "  <tbody>\n",
       "    <tr>\n",
       "      <th>0</th>\n",
       "      <td>22520.0</td>\n",
       "      <td>Ganesh Agencies(BA)</td>\n",
       "      <td>ISR03</td>\n",
       "      <td>GANESH</td>\n",
       "    </tr>\n",
       "    <tr>\n",
       "      <th>1</th>\n",
       "      <td>22520.0</td>\n",
       "      <td>Ganesh Agencies(BA)</td>\n",
       "      <td>ISR01</td>\n",
       "      <td>VENKAT</td>\n",
       "    </tr>\n",
       "    <tr>\n",
       "      <th>2</th>\n",
       "      <td>25591.0</td>\n",
       "      <td>Rohitha Agencies(BA)</td>\n",
       "      <td>SM01</td>\n",
       "      <td>SALES MAN</td>\n",
       "    </tr>\n",
       "    <tr>\n",
       "      <th>3</th>\n",
       "      <td>22520.0</td>\n",
       "      <td>Ganesh Agencies(BA)</td>\n",
       "      <td>ISR04</td>\n",
       "      <td>BALAJI</td>\n",
       "    </tr>\n",
       "    <tr>\n",
       "      <th>4</th>\n",
       "      <td>22520.0</td>\n",
       "      <td>Ganesh Agencies(BA)</td>\n",
       "      <td>ISR02</td>\n",
       "      <td>CHENDRASEKARAN</td>\n",
       "    </tr>\n",
       "  </tbody>\n",
       "</table>\n",
       "</div>"
      ],
      "text/plain": [
       "   BA Code               BA Name Salesman Code   Salesman Name\n",
       "0  22520.0   Ganesh Agencies(BA)         ISR03          GANESH\n",
       "1  22520.0   Ganesh Agencies(BA)         ISR01          VENKAT\n",
       "2  25591.0  Rohitha Agencies(BA)          SM01       SALES MAN\n",
       "3  22520.0   Ganesh Agencies(BA)         ISR04          BALAJI\n",
       "4  22520.0   Ganesh Agencies(BA)         ISR02  CHENDRASEKARAN"
      ]
     },
     "execution_count": 8,
     "metadata": {},
     "output_type": "execute_result"
    }
   ],
   "source": [
    "salesman_mapping.head()"
   ]
  },
  {
   "cell_type": "code",
   "execution_count": 9,
   "id": "820578f7",
   "metadata": {
    "scrolled": true
   },
   "outputs": [
    {
     "name": "stdout",
     "output_type": "stream",
     "text": [
      "<class 'pandas.core.frame.DataFrame'>\n",
      "RangeIndex: 270053 entries, 0 to 270052\n",
      "Data columns (total 4 columns):\n",
      " #   Column         Non-Null Count  Dtype  \n",
      "---  ------         --------------  -----  \n",
      " 0   BA Code        54 non-null     float64\n",
      " 1   BA Name        54 non-null     object \n",
      " 2   Salesman Code  54 non-null     object \n",
      " 3   Salesman Name  54 non-null     object \n",
      "dtypes: float64(1), object(3)\n",
      "memory usage: 5.2+ MB\n"
     ]
    }
   ],
   "source": [
    "salesman_mapping.info()"
   ]
  },
  {
   "cell_type": "code",
   "execution_count": 10,
   "id": "5fbed85f",
   "metadata": {},
   "outputs": [
    {
     "data": {
      "text/plain": [
       "BA Code          269999\n",
       "BA Name          269999\n",
       "Salesman Code    269999\n",
       "Salesman Name    269999\n",
       "dtype: int64"
      ]
     },
     "execution_count": 10,
     "metadata": {},
     "output_type": "execute_result"
    }
   ],
   "source": [
    "salesman_mapping.isnull().sum()"
   ]
  },
  {
   "cell_type": "code",
   "execution_count": 11,
   "id": "b7d51643",
   "metadata": {},
   "outputs": [],
   "source": [
    "salesman_mapping= pd.read_csv(\"C:\\\\Users\\\\karth\\\\Downloads\\\\ML Assignment (1)\\\\ML Assignment\\\\2 Salesman Mapping File.csv\",low_memory=False,nrows=54)"
   ]
  },
  {
   "cell_type": "code",
   "execution_count": 12,
   "id": "dff7cc93",
   "metadata": {},
   "outputs": [
    {
     "data": {
      "text/plain": [
       "(54, 4)"
      ]
     },
     "execution_count": 12,
     "metadata": {},
     "output_type": "execute_result"
    }
   ],
   "source": [
    "salesman_mapping.shape"
   ]
  },
  {
   "cell_type": "code",
   "execution_count": 13,
   "id": "eaa2ff5f",
   "metadata": {},
   "outputs": [],
   "source": [
    "salesroute_mapping=pd.read_csv(\"C:/Users/karth/Downloads/ML Assignment (1)/ML Assignment/3 Sales Route Mapping File.txt\",sep=\"\\t\",low_memory=False)"
   ]
  },
  {
   "cell_type": "code",
   "execution_count": 14,
   "id": "8ecb9219",
   "metadata": {
    "scrolled": true
   },
   "outputs": [
    {
     "data": {
      "text/html": [
       "<div>\n",
       "<style scoped>\n",
       "    .dataframe tbody tr th:only-of-type {\n",
       "        vertical-align: middle;\n",
       "    }\n",
       "\n",
       "    .dataframe tbody tr th {\n",
       "        vertical-align: top;\n",
       "    }\n",
       "\n",
       "    .dataframe thead th {\n",
       "        text-align: right;\n",
       "    }\n",
       "</style>\n",
       "<table border=\"1\" class=\"dataframe\">\n",
       "  <thead>\n",
       "    <tr style=\"text-align: right;\">\n",
       "      <th></th>\n",
       "      <th>Sales Route Code</th>\n",
       "      <th>Sales Route Name</th>\n",
       "    </tr>\n",
       "  </thead>\n",
       "  <tbody>\n",
       "    <tr>\n",
       "      <th>0</th>\n",
       "      <td>SR10</td>\n",
       "      <td>Kalpakkam</td>\n",
       "    </tr>\n",
       "    <tr>\n",
       "      <th>1</th>\n",
       "      <td>SR08</td>\n",
       "      <td>Vedhachalam Nagar</td>\n",
       "    </tr>\n",
       "    <tr>\n",
       "      <th>2</th>\n",
       "      <td>SR07</td>\n",
       "      <td>GST Road</td>\n",
       "    </tr>\n",
       "    <tr>\n",
       "      <th>3</th>\n",
       "      <td>SR06</td>\n",
       "      <td>Bazaar Street</td>\n",
       "    </tr>\n",
       "    <tr>\n",
       "      <th>4</th>\n",
       "      <td>SR002</td>\n",
       "      <td>THIRUPORUR</td>\n",
       "    </tr>\n",
       "  </tbody>\n",
       "</table>\n",
       "</div>"
      ],
      "text/plain": [
       "  Sales Route Code   Sales Route Name\n",
       "0             SR10          Kalpakkam\n",
       "1             SR08  Vedhachalam Nagar\n",
       "2             SR07           GST Road\n",
       "3             SR06      Bazaar Street\n",
       "4            SR002         THIRUPORUR"
      ]
     },
     "execution_count": 14,
     "metadata": {},
     "output_type": "execute_result"
    }
   ],
   "source": [
    "salesroute_mapping.head()"
   ]
  },
  {
   "cell_type": "code",
   "execution_count": 15,
   "id": "d9c87722",
   "metadata": {},
   "outputs": [
    {
     "name": "stdout",
     "output_type": "stream",
     "text": [
      "<class 'pandas.core.frame.DataFrame'>\n",
      "RangeIndex: 270053 entries, 0 to 270052\n",
      "Data columns (total 2 columns):\n",
      " #   Column            Non-Null Count  Dtype \n",
      "---  ------            --------------  ----- \n",
      " 0   Sales Route Code  257 non-null    object\n",
      " 1   Sales Route Name  257 non-null    object\n",
      "dtypes: object(2)\n",
      "memory usage: 2.1+ MB\n"
     ]
    }
   ],
   "source": [
    "salesroute_mapping.info()"
   ]
  },
  {
   "cell_type": "code",
   "execution_count": 16,
   "id": "7b3e3bad",
   "metadata": {},
   "outputs": [
    {
     "data": {
      "text/plain": [
       "(270053, 2)"
      ]
     },
     "execution_count": 16,
     "metadata": {},
     "output_type": "execute_result"
    }
   ],
   "source": [
    "salesroute_mapping.shape"
   ]
  },
  {
   "cell_type": "code",
   "execution_count": 17,
   "id": "62c8c5b3",
   "metadata": {},
   "outputs": [
    {
     "data": {
      "text/plain": [
       "Sales Route Code    269796\n",
       "Sales Route Name    269796\n",
       "dtype: int64"
      ]
     },
     "execution_count": 17,
     "metadata": {},
     "output_type": "execute_result"
    }
   ],
   "source": [
    "salesroute_mapping.isnull().sum()"
   ]
  },
  {
   "cell_type": "code",
   "execution_count": 18,
   "id": "d95f04fd",
   "metadata": {},
   "outputs": [],
   "source": [
    "retailer_mapping=pd.read_csv(\"C:/Users/karth/Downloads/ML Assignment (1)/ML Assignment/4 Retailer Mapping File.xlsx\",sep=\"\\t\",low_memory=False)"
   ]
  },
  {
   "cell_type": "code",
   "execution_count": 19,
   "id": "ef48645c",
   "metadata": {},
   "outputs": [
    {
     "data": {
      "text/plain": [
       "(8056, 1)"
      ]
     },
     "execution_count": 19,
     "metadata": {},
     "output_type": "execute_result"
    }
   ],
   "source": [
    "retailer_mapping.shape"
   ]
  },
  {
   "cell_type": "code",
   "execution_count": 20,
   "id": "4b426079",
   "metadata": {},
   "outputs": [
    {
     "data": {
      "text/html": [
       "<div>\n",
       "<style scoped>\n",
       "    .dataframe tbody tr th:only-of-type {\n",
       "        vertical-align: middle;\n",
       "    }\n",
       "\n",
       "    .dataframe tbody tr th {\n",
       "        vertical-align: top;\n",
       "    }\n",
       "\n",
       "    .dataframe thead th {\n",
       "        text-align: right;\n",
       "    }\n",
       "</style>\n",
       "<table border=\"1\" class=\"dataframe\">\n",
       "  <thead>\n",
       "    <tr style=\"text-align: right;\">\n",
       "      <th></th>\n",
       "      <th>Retailer Code,Retailer Name</th>\n",
       "    </tr>\n",
       "  </thead>\n",
       "  <tbody>\n",
       "    <tr>\n",
       "      <th>0</th>\n",
       "      <td>225201600462,INDIA STORE</td>\n",
       "    </tr>\n",
       "    <tr>\n",
       "      <th>1</th>\n",
       "      <td>225201600447,RAJESHWARI STORE</td>\n",
       "    </tr>\n",
       "    <tr>\n",
       "      <th>2</th>\n",
       "      <td>225201600692,SWAMY SUPER MARKET</td>\n",
       "    </tr>\n",
       "    <tr>\n",
       "      <th>3</th>\n",
       "      <td>225201600769,SRI RAM STORE</td>\n",
       "    </tr>\n",
       "    <tr>\n",
       "      <th>4</th>\n",
       "      <td>225201600244,GREEN LAND SUPER MARKET</td>\n",
       "    </tr>\n",
       "  </tbody>\n",
       "</table>\n",
       "</div>"
      ],
      "text/plain": [
       "            Retailer Code,Retailer Name\n",
       "0              225201600462,INDIA STORE\n",
       "1         225201600447,RAJESHWARI STORE\n",
       "2       225201600692,SWAMY SUPER MARKET\n",
       "3            225201600769,SRI RAM STORE\n",
       "4  225201600244,GREEN LAND SUPER MARKET"
      ]
     },
     "execution_count": 20,
     "metadata": {},
     "output_type": "execute_result"
    }
   ],
   "source": [
    "retailer_mapping.head()"
   ]
  },
  {
   "cell_type": "code",
   "execution_count": 21,
   "id": "168e31bc",
   "metadata": {},
   "outputs": [
    {
     "data": {
      "text/plain": [
       "Retailer Code,Retailer Name    0\n",
       "dtype: int64"
      ]
     },
     "execution_count": 21,
     "metadata": {},
     "output_type": "execute_result"
    }
   ],
   "source": [
    "retailer_mapping.isnull().sum()"
   ]
  },
  {
   "cell_type": "code",
   "execution_count": 22,
   "id": "52e3243a",
   "metadata": {},
   "outputs": [],
   "source": [
    "product_mapping=pd.read_csv(\"C:/Users/karth/Downloads/ML Assignment (1)/ML Assignment/5 Product Mapping.txt\",sep=\"\\t\")"
   ]
  },
  {
   "cell_type": "code",
   "execution_count": 23,
   "id": "ab267fb8",
   "metadata": {},
   "outputs": [
    {
     "data": {
      "text/html": [
       "<div>\n",
       "<style scoped>\n",
       "    .dataframe tbody tr th:only-of-type {\n",
       "        vertical-align: middle;\n",
       "    }\n",
       "\n",
       "    .dataframe tbody tr th {\n",
       "        vertical-align: top;\n",
       "    }\n",
       "\n",
       "    .dataframe thead th {\n",
       "        text-align: right;\n",
       "    }\n",
       "</style>\n",
       "<table border=\"1\" class=\"dataframe\">\n",
       "  <thead>\n",
       "    <tr style=\"text-align: right;\">\n",
       "      <th></th>\n",
       "      <th>Product Code</th>\n",
       "      <th>Product Name</th>\n",
       "    </tr>\n",
       "  </thead>\n",
       "  <tbody>\n",
       "    <tr>\n",
       "      <th>0</th>\n",
       "      <td>RSFFMD01C</td>\n",
       "      <td>Rsf Oil-GW-1 Ltr Box-VD3 -VSP 50 ML FREE</td>\n",
       "    </tr>\n",
       "    <tr>\n",
       "      <th>1</th>\n",
       "      <td>RSFFMD02</td>\n",
       "      <td>Rsf Oil-GW-1/2 Ltr Pouch Box-VD3</td>\n",
       "    </tr>\n",
       "    <tr>\n",
       "      <th>2</th>\n",
       "      <td>RSFFMD08</td>\n",
       "      <td>RSF OIL-GW-100 ML POUCH BOX (12 Ltr)-VD3</td>\n",
       "    </tr>\n",
       "    <tr>\n",
       "      <th>3</th>\n",
       "      <td>RSFJRD03D</td>\n",
       "      <td>RSF OIL-GW-5 LTR TCAN-VD3 OIL DISP FREE</td>\n",
       "    </tr>\n",
       "    <tr>\n",
       "      <th>4</th>\n",
       "      <td>RSFFMD04</td>\n",
       "      <td>RSF OIL-GW-200 ML POUCH BOX (12 Ltr)-VD3</td>\n",
       "    </tr>\n",
       "  </tbody>\n",
       "</table>\n",
       "</div>"
      ],
      "text/plain": [
       "  Product Code                              Product Name\n",
       "0    RSFFMD01C  Rsf Oil-GW-1 Ltr Box-VD3 -VSP 50 ML FREE\n",
       "1     RSFFMD02          Rsf Oil-GW-1/2 Ltr Pouch Box-VD3\n",
       "2     RSFFMD08  RSF OIL-GW-100 ML POUCH BOX (12 Ltr)-VD3\n",
       "3    RSFJRD03D   RSF OIL-GW-5 LTR TCAN-VD3 OIL DISP FREE\n",
       "4     RSFFMD04  RSF OIL-GW-200 ML POUCH BOX (12 Ltr)-VD3"
      ]
     },
     "execution_count": 23,
     "metadata": {},
     "output_type": "execute_result"
    }
   ],
   "source": [
    "product_mapping.head()"
   ]
  },
  {
   "cell_type": "code",
   "execution_count": 24,
   "id": "5095da04",
   "metadata": {},
   "outputs": [
    {
     "name": "stdout",
     "output_type": "stream",
     "text": [
      "<class 'pandas.core.frame.DataFrame'>\n",
      "RangeIndex: 73 entries, 0 to 72\n",
      "Data columns (total 2 columns):\n",
      " #   Column        Non-Null Count  Dtype \n",
      "---  ------        --------------  ----- \n",
      " 0   Product Code  73 non-null     object\n",
      " 1   Product Name  73 non-null     object\n",
      "dtypes: object(2)\n",
      "memory usage: 648.0+ bytes\n"
     ]
    }
   ],
   "source": [
    "product_mapping.info()"
   ]
  },
  {
   "cell_type": "code",
   "execution_count": 25,
   "id": "cc3857b3",
   "metadata": {},
   "outputs": [
    {
     "data": {
      "text/plain": [
       "Product Code    0\n",
       "Product Name    0\n",
       "dtype: int64"
      ]
     },
     "execution_count": 25,
     "metadata": {},
     "output_type": "execute_result"
    }
   ],
   "source": [
    "product_mapping.isnull().sum()"
   ]
  },
  {
   "cell_type": "code",
   "execution_count": 26,
   "id": "d20594da",
   "metadata": {},
   "outputs": [],
   "source": [
    "salesman_mapping.columns=salesman_mapping.columns.str.replace(' ', '')\n"
   ]
  },
  {
   "cell_type": "code",
   "execution_count": 27,
   "id": "c34c2923",
   "metadata": {},
   "outputs": [],
   "source": [
    "salesman_salescode=pd.Series(salesman_mapping.SalesmanName.values,index=salesman_mapping.SalesmanCode).to_dict()"
   ]
  },
  {
   "cell_type": "code",
   "execution_count": 28,
   "id": "9a090256",
   "metadata": {},
   "outputs": [
    {
     "data": {
      "text/plain": [
       "Index(['BACode', 'BAName', 'SalesmanCode', 'SalesmanName'], dtype='object')"
      ]
     },
     "execution_count": 28,
     "metadata": {},
     "output_type": "execute_result"
    }
   ],
   "source": [
    "salesman_mapping.columns"
   ]
  },
  {
   "cell_type": "code",
   "execution_count": 29,
   "id": "d1f4dac9",
   "metadata": {
    "scrolled": true
   },
   "outputs": [
    {
     "data": {
      "text/plain": [
       "{'ISR03': 'PANDIAN ',\n",
       " 'ISR01': 'CHURCHILL',\n",
       " 'SM01': 'CHIDAMBARAM',\n",
       " 'ISR04': 'BALAJI',\n",
       " 'ISR02': 'GANESH',\n",
       " 'SM02': 'RAJA',\n",
       " 'SM03': 'ARUN',\n",
       " 'SR003': 'Vetrivel',\n",
       " 'SM04': 'SENTHIL',\n",
       " '2': 'SUGUMAR',\n",
       " '1': 'SELVAMANI',\n",
       " 'ISR003': 'KUMARAN',\n",
       " 'ISR002': 'Aadhithan',\n",
       " 'ISR001': 'surya',\n",
       " 'SM001': 'MOHAMMED AMSA',\n",
       " 'SR001': 'Srinivasan',\n",
       " 'SR002': 'Krishnan',\n",
       " 'SM002': 'RAKESH',\n",
       " 'SM003': 'RUBAN'}"
      ]
     },
     "execution_count": 29,
     "metadata": {},
     "output_type": "execute_result"
    }
   ],
   "source": [
    "salesman_salescode.items()\n",
    "salesman_salescode.keys()\n",
    "salesman_salescode.values()\n",
    "salesman_salescode"
   ]
  },
  {
   "cell_type": "code",
   "execution_count": 30,
   "id": "9d3ca6dd",
   "metadata": {
    "scrolled": true
   },
   "outputs": [
    {
     "data": {
      "text/plain": [
       "BACode          0\n",
       "BAName          0\n",
       "SalesmanCode    0\n",
       "SalesmanName    0\n",
       "dtype: int64"
      ]
     },
     "execution_count": 30,
     "metadata": {},
     "output_type": "execute_result"
    }
   ],
   "source": [
    "salesman_mapping.columns=salesman_mapping.columns.str.replace(' ', '')\n",
    "salesman_mapping.isnull().sum()"
   ]
  },
  {
   "cell_type": "code",
   "execution_count": 31,
   "id": "ef10241f",
   "metadata": {},
   "outputs": [],
   "source": [
    "salesman_BA=pd.Series(salesman_mapping.BAName.values,index=salesman_mapping.BACode).to_dict()"
   ]
  },
  {
   "cell_type": "code",
   "execution_count": 32,
   "id": "1df7e530",
   "metadata": {},
   "outputs": [
    {
     "data": {
      "text/plain": [
       "dict_items([(22520, 'Ganesh Agencies(BA)'), (25591, 'Rohitha Agencies(BA)'), (23072, 'Surya Agency(BA)'), (22975, 'Naveen Agency(BA)'), (25303, 'Vimala Associates(BA)'), (23010, 'Geetha Agencies(BA)'), (22766, 'Sri Siba Marketing(BA)'), (24687, 'Aanjaneya Enterprises(BA)'), (22591, 'Eswari Agency(BA)'), (24461, 'AVM Agencies(BA)'), (22641, 'Lakshmi Agencies(BA)'), (22644, 'Shrii Balaji Enterprises(BA)'), (22657, 'Jeevan Agency(BA)'), (22667, 'S.G.S Oil Traders(BA)'), (25567, 'Vijayaganapathy Enterprises(BA)'), (24314, 'Shree Agarwal Trading Co(BA)'), (22703, 'Iraivi Enterprises(BA)'), (24532, 'Sri Ganga Agencies(BA)'), (22819, 'Vijayalakshmi Agency(BA)'), (24875, 'Sun Tej Agencies(BA)')])"
      ]
     },
     "execution_count": 32,
     "metadata": {},
     "output_type": "execute_result"
    }
   ],
   "source": [
    "salesman_BA.items()"
   ]
  },
  {
   "cell_type": "code",
   "execution_count": 33,
   "id": "0d9aa0a7",
   "metadata": {},
   "outputs": [],
   "source": [
    "salesroute_mapping.columns=salesroute_mapping.columns.str.replace(' ', '')"
   ]
  },
  {
   "cell_type": "code",
   "execution_count": 34,
   "id": "55e8b09e",
   "metadata": {},
   "outputs": [],
   "source": [
    "salesroute=pd.Series(salesroute_mapping.SalesRouteName.values,index=salesroute_mapping.SalesRouteCode).to_dict()"
   ]
  },
  {
   "cell_type": "code",
   "execution_count": 35,
   "id": "caf14f04",
   "metadata": {},
   "outputs": [
    {
     "data": {
      "text/plain": [
       "dict_items([('SR10', 'THYNAMPET'), ('SR08', 'MANDAVELI 1'), ('SR07', 'MYLAPORE 2'), ('SR06', 'MYLAPORE 1'), ('SR002', 'PERUNGALATHUR -1'), ('SR13', 'ACHIRAPAKKAM N'), ('SR14', 'KUVATHUR N'), ('SR09', 'MANDAVELI 2'), ('SR11', 'RA PURAM'), ('SR03', 'TRIPLICANE 3'), ('SR02', 'TRIPLICANE 2'), ('SR04', 'ROYAPET 1'), ('SR01', 'TRIPLICANE 1'), ('SR15', 'MADHURANTHAGAM N'), ('SR02-0000023072', 'KUNDRATHUR'), ('SR08-0000023072', 'SENNEERKUPPAM'), ('SR05-0000023072', 'NATHAM'), ('SR01-0000023072', 'KUMUNANCHAVADI'), ('SR03-0000022975', 'KATTUPAKKAM'), ('SR09-0000023072', 'THIRUVERKADU'), ('SR010-0000022975', 'VANAGARAM'), ('SR07-0000023072', 'POONAMALLEE'), ('SR011', 'PERUNGALATHUR -3'), ('SR08-0000022975', 'IYYAPPANTHANGEL'), ('SR04-0000023072', 'NASARATHPETTAI'), ('SR03-0000023072', 'MANGADU'), ('SR01-0000022975', 'BAIKADAI'), ('SR04-0000022975', 'KOVOR'), ('SR02-0000022975', 'GERUGAMBAKKAM'), ('SR007', 'MANIMANGALAM'), ('SR06-0000022975', 'PATTUR'), ('SR06-0000023072', 'SOMAMANGALAM'), ('SR07-0000022975', 'Porur'), ('SR010', 'PERUNGALATHUR -2'), ('SR009', 'PADAPPAI'), ('SR003', 'TAMBARAM -1'), ('SR02-0000023010', 'Ayanavaram Market'), ('SR07-0000023010', 'MH Road'), ('SR05-0000023010', 'GKM Colony'), ('SR030-0000022766', 'Villivakkam'), ('SR031-0000022766', 'Vinayagapuram/Lakshmipuram'), ('SR04-0000023010', 'EH Road'), ('SR015-0000023010', 'Tvk Nagar'), ('SR028-0000022766', 'Sidco nagar'), ('SR011-0000023010', 'Ponniammanmedu'), ('SR019', 'Zamin Pallavaram'), ('SR029-0000022766', 'Teachers Colony'), ('SR03-0000023010', 'BB Road'), ('SR01-0000023010', 'Mangalapuram'), ('SR08-0000023010', 'Ayanavaram'), ('SR014', 'GUDUVANCHERY -1'), ('SR006', 'URAPAKKAM-2'), ('SR016', 'MADIPAKKAM'), ('SR004', 'TAMBARAM -2'), ('SR015', 'GUDUVANCHERY 3'), ('SR013', 'GUDUVACHERY 2'), ('SR008', 'MUDICHUR'), ('SR005', 'URAPAKKAM-1'), ('SR012', 'URAPPAKKAM-3'), ('SR001', 'KELAMBAKKAM'), ('SR017', 'ADAMBAKKAM 3'), ('SR018', 'TAMBARAM -3'), ('SR05', 'ROYAPET 2'), ('SR12', 'KOTTURPURAM'), ('SR022', 'Nemilichery'), ('SR025', 'Pammal 1'), ('SR024', 'Pammal'), ('SR020', 'NANAGANALLUR'), ('SR023', 'Old Pallavaram'), ('SR021', 'Lakshmipuram'), (nan, nan)])"
      ]
     },
     "execution_count": 35,
     "metadata": {},
     "output_type": "execute_result"
    }
   ],
   "source": [
    "salesroute.items()"
   ]
  },
  {
   "cell_type": "code",
   "execution_count": 36,
   "id": "db939d53",
   "metadata": {},
   "outputs": [],
   "source": [
    "product_mapping.columns=product_mapping.columns.str.replace(' ', '')"
   ]
  },
  {
   "cell_type": "code",
   "execution_count": 37,
   "id": "cf836bc5",
   "metadata": {},
   "outputs": [],
   "source": [
    "product_mapping=pd.Series(product_mapping.ProductCode.values,index=product_mapping.ProductName).to_dict()"
   ]
  },
  {
   "cell_type": "code",
   "execution_count": 38,
   "id": "c2086ecc",
   "metadata": {
    "scrolled": true
   },
   "outputs": [
    {
     "data": {
      "text/plain": [
       "dict_items([('Rsf Oil-GW-1 Ltr Box-VD3 -VSP 50 ML FREE', 'RSFFMD01C'), ('Rsf Oil-GW-1/2 Ltr Pouch Box-VD3', 'RSFFMD02'), ('RSF OIL-GW-100 ML POUCH BOX (12 Ltr)-VD3', 'RSFFMD08'), ('RSF OIL-GW-5 LTR TCAN-VD3 OIL DISP FREE', 'RSFJRD03D'), ('RSF OIL-GW-200 ML POUCH BOX (12 Ltr)-VD3', 'RSFFMD04'), ('DPM LAMP OIL 1/2LT PET AGAL VILLAKKU OFF', 'LAMPTB02C'), ('VANASPATI-GW-1/2 LTR POUCH BOX', 'VSPFMA02'), ('VANASPATI-GW-200 ML POUCH BOX', 'VSPFMA04'), ('VANASPATI-GW-100 ML POUCH BOX', 'VSPFMA08'), ('Rsf Oil-GW-15 Ltr TN -VD3', 'RSFTNE07'), ('CARDIA LIFE- 1LTR. POUCH BOX', 'BL1FMA01'), ('RRB ORYSA-1LT-REG-POUCH-Tumbler Free', 'RRBFMA01B'), ('Tur-dhall-1KgPack Box(10 Nos)-Grade II', 'TODFMA01'), ('Tur-dhall-1/2Kg Pack Box(20 Nos)-GradeII', 'TODFMA02'), ('DPM LAMP OIL-1LT PET-AGAL VILLAKKU OFFER', 'LAMPTB01F'), ('ELDIA PCO HDPE-200ML Box(Tumbler Free)', 'PCOHDA04(FREE)'), ('ELDIA PCO HDPE-100 ML Box(Contain Free)', 'PCOHDA08(FREE)'), ('VANASPATI-GW-50 ML POUCH BOX', 'VSPFMA09'), ('Orid dhall - 1Kg Pack', 'ORDFMA01'), ('Orid dhall - 1/2 Kg Pack Box(20 Nos)', 'ORDFMA02'), ('Moong-dhall - 1Kg Pack Box(10 Nos)', 'MODFMA01'), ('VANASPATI-GW-1 LTR POUCH BOX', 'VSPFMA01'), ('ELDIA PCO 1 Ltrs Pouch Box', 'PCOFMA01'), ('ELDIA PCO HDPE -50 ML Bottle Box(Free)', 'PCOHDA09(FREE)'), ('ELDIA PURE PLUS FINE COCO OIL 15 kg Tin', 'FCOTN06'), ('Rsf Oil-GW-1 Ltr Pouch Box-VD3', 'RSFFMD01'), ('ELDIA PCO 1/2 Ltrs Pouch Box', 'PCOFMA02'), ('RSF OIL-GW-1 LTR PET BOTTLE BOX - VD3', 'RSFPTD01'), ('RSF 5LtrTall CAN-VD3-ELDIA PCO200ML FREE', 'RSFJRD03E'), ('DHEEPAM LAMP OIL - 1 LTR TOWER PET', 'LAMPTB01'), ('DHEEPAM LAMP OIL - 250 ML PET', 'LAMPTA12'), ('DHEEPAM LAMP OIL 1/2 LTR TOWER PET', 'LAMPTB02'), ('Rsf Oil-GW-15 Kg TN -VD3', 'RSFTNE06'), ('CARDIA EVO-1 LTR.PET BOTTLE BOX', 'EVOPTA01'), ('RSF OIL-GW-1 LTR PET BOTTLE BOX _ ND', 'RSFPTB01'), ('Moong-dhall - 1/2 Kg Pack Box(20 Nos)', 'MODFMA02'), ('Dheepam Lamp oil - 50 ML', 'LAMPM05'), ('RSF OIL-GW-5 LTR TALL CAN BOX-VD3', 'RSFJRD03'), ('DHEEPAM PARIJAT LAMP OIL-1/2LTR TOWER PE', 'LAMPJPTB02'), ('ELDIA PCO 100 ML Pouch Box-Hand Fan Free', 'PCOFMA08A'), ('DEEPAM LAMP OIL 5 RS POUCH (300 POUCHES)', 'LAMFMA13'), ('RRB ORYSA -1 LTR -REG-POUCH', 'RRBFMA01'), ('Gram dhall - 1Kg Pack Box', 'GRDFMA01'), ('CARDIA ROL- 1LTR.PET BOTTLE BOX', 'ROLPTA01'), ('CARDIA ROL- 1/2 LTR.PET BOTTLE BOX', 'ROLPTA02'), ('Gram dhall - 1/2 Kg Pack Box', 'GRDFMA02'), ('ELDIA PCO 50 ML Pouch Box', 'PCOFMA09'), ('CARDIA LIFE-1LTR.BOX-Free SipperTumbler', 'BL1FMA01D'), ('VANASPATI-GW-15 KG TIN', 'VSPTNA06'), ('ELDIA PCO 100 ML Pouch Box', 'PCOFMA08'), ('RSF OIL-GW-2 LTR PET BOTTLE BOX', 'RSFPTA15'), ('ELDIA PCO HDPE-100 ML Bottle Box', 'PCOHDA08'), ('RsfOil-GW-1LtrBox-VD3-DPM Rs.5 PouchFree', 'RSFFMD01E'), ('Gram dhall -Gold Winner -1Kg Pack Box', 'GRDFMG01'), ('Orid dhall - Gold Winner -1Kg Pack-Whole', 'ORDFMG01'), ('Tur-dhall-Gold Winner1KgPack Box(10 Nos)', 'TODFMG01'), ('Moong-dhall -Gold Winner 1Kg Box(10 Nos)', 'MODFMG01'), ('Moong-dhall-Gold Winner 1/2 KgBox-20 Nos', 'MODFMG02'), ('Orid Dhall -GW 1/2Kg Pack Box(20 Nos)', 'ORDFMG02'), ('Tur-dhall-Gold Winner -1/2Kg Box(20 Nos)', 'TODFMG02'), ('DPM TEMPLE FRAGRANCE LAMP OIL1LtrCD OFFR', 'LAMPTB01G'), ('Dheepam Lamp oil - 100 ML', 'LAMPM04'), ('ELDIA PCO HDPE-100 ML Box - (50 Nos)', 'PCOHDB08'), ('ELDIA PCO HDPE-200ML Box - (25 Nos)', 'PCOHDB04'), ('ELDIA PCO HDPE -50 ML Bottle Box 100 Nos', 'PCOHDB09'), ('RSF OIL-GW-2 LTR PET BOTTLE BOX-VD3', 'RSFPTD15'), ('DPM PARIJAT LAMP OIL-1LT PET-HAND FAN', 'LAMPJPTB01C'), ('Gram dhall -Gold Winner -1/2 Kg Pack Box', 'GRDFMG02'), ('DHEEPAM PARIJAT LAMP OIL-1LTR TOWER PET', 'LAMPJPTB01'), ('RSF OIL-GW-100 ML POUCH BOX (12 Ltr)_ND', 'RSFFMC08'), ('CARDIA LIFE-1LTR.POUCH BOX-Free Containe', 'BL1FMA01C'), ('REFINED OLIVE OIL-5 LTR.TIN BOX', 'ROOTNA03'), ('REFINED OLIVE OIL- 2 LTR.TIN BOX', 'ROOTNA15')])"
      ]
     },
     "execution_count": 38,
     "metadata": {},
     "output_type": "execute_result"
    }
   ],
   "source": [
    "product_mapping.items()"
   ]
  },
  {
   "cell_type": "code",
   "execution_count": 39,
   "id": "6ca070d6",
   "metadata": {},
   "outputs": [],
   "source": [
    "ba_mapping.columns=ba_mapping.columns.str.replace(' ', '')"
   ]
  },
  {
   "cell_type": "code",
   "execution_count": 40,
   "id": "85d317e1",
   "metadata": {},
   "outputs": [],
   "source": [
    "ba_mapping=pd.Series(ba_mapping.BAName.values,index=ba_mapping.BACode).to_dict()"
   ]
  },
  {
   "cell_type": "code",
   "execution_count": 41,
   "id": "5987f4b6",
   "metadata": {},
   "outputs": [
    {
     "data": {
      "text/plain": [
       "dict_items([(22520, 'Ganesh Agencies(BA)'), (25591, 'Rohitha Agencies(BA)'), (23072, 'Surya Agency(BA)'), (22975, 'Naveen Agency(BA)'), (25303, 'Vimala Associates(BA)'), (23010, 'Geetha Agencies(BA)'), (22766, 'Sri Siba Marketing(BA)'), (24687, 'Aanjaneya Enterprises(BA)'), (22591, 'Eswari Agency(BA)'), (24461, 'AVM Agencies(BA)'), (22641, 'Lakshmi Agencies(BA)'), (22644, 'Shrii Balaji Enterprises(BA)'), (22657, 'Jeevan Agency(BA)'), (22667, 'S.G.S Oil Traders(BA)'), (25567, 'Vijayaganapathy Enterprises(BA)'), (24314, 'Shree Agarwal Trading Co(BA)'), (22703, 'Iraivi Enterprises(BA)'), (24532, 'Sri Ganga Agencies(BA)'), (22819, 'Vijayalakshmi Agency(BA)'), (24875, 'Sun Tej Agencies(BA)')])"
      ]
     },
     "execution_count": 41,
     "metadata": {},
     "output_type": "execute_result"
    }
   ],
   "source": [
    "ba_mapping.items()"
   ]
  },
  {
   "cell_type": "code",
   "execution_count": null,
   "id": "2be41690",
   "metadata": {},
   "outputs": [],
   "source": []
  },
  {
   "cell_type": "code",
   "execution_count": null,
   "id": "19d6b666",
   "metadata": {},
   "outputs": [],
   "source": []
  },
  {
   "cell_type": "code",
   "execution_count": 42,
   "id": "0c43908f",
   "metadata": {},
   "outputs": [],
   "source": [
    "asales16= pd.read_csv(\"C:/Users/karth/Downloads/ML Assignment (1)/ML Assignment/A Sales Details Nov'16 - Dec'16.csv\")"
   ]
  },
  {
   "cell_type": "code",
   "execution_count": 43,
   "id": "f5759581",
   "metadata": {
    "scrolled": true
   },
   "outputs": [
    {
     "data": {
      "text/html": [
       "<div>\n",
       "<style scoped>\n",
       "    .dataframe tbody tr th:only-of-type {\n",
       "        vertical-align: middle;\n",
       "    }\n",
       "\n",
       "    .dataframe tbody tr th {\n",
       "        vertical-align: top;\n",
       "    }\n",
       "\n",
       "    .dataframe thead th {\n",
       "        text-align: right;\n",
       "    }\n",
       "</style>\n",
       "<table border=\"1\" class=\"dataframe\">\n",
       "  <thead>\n",
       "    <tr style=\"text-align: right;\">\n",
       "      <th></th>\n",
       "      <th>BA Code</th>\n",
       "      <th>Sales Invoice No</th>\n",
       "      <th>Sales Invoice Date</th>\n",
       "      <th>Salesman Code</th>\n",
       "      <th>Sales Route Code</th>\n",
       "      <th>Retailer Code</th>\n",
       "      <th>Class  Name</th>\n",
       "      <th>Brand Group Name</th>\n",
       "      <th>Product Group Name</th>\n",
       "      <th>Product Code</th>\n",
       "      <th>Product Quantity in Box</th>\n",
       "      <th>Product Quantity in Nos</th>\n",
       "      <th>Total Product Quantity in Cases</th>\n",
       "      <th>Product Scheme Discount</th>\n",
       "    </tr>\n",
       "  </thead>\n",
       "  <tbody>\n",
       "    <tr>\n",
       "      <th>0</th>\n",
       "      <td>22520</td>\n",
       "      <td>K1604964</td>\n",
       "      <td>31-12-16</td>\n",
       "      <td>ISR03</td>\n",
       "      <td>SR10</td>\n",
       "      <td>2.252020e+11</td>\n",
       "      <td>Premium</td>\n",
       "      <td>RSF</td>\n",
       "      <td>RSF 1Ltr</td>\n",
       "      <td>RSFFMD01C</td>\n",
       "      <td>5</td>\n",
       "      <td>0</td>\n",
       "      <td>5.0</td>\n",
       "      <td>17.32</td>\n",
       "    </tr>\n",
       "    <tr>\n",
       "      <th>1</th>\n",
       "      <td>22520</td>\n",
       "      <td>K1604964</td>\n",
       "      <td>31-12-16</td>\n",
       "      <td>ISR03</td>\n",
       "      <td>SR10</td>\n",
       "      <td>2.252020e+11</td>\n",
       "      <td>Premium</td>\n",
       "      <td>RSF</td>\n",
       "      <td>RSF 500ML</td>\n",
       "      <td>RSFFMD02</td>\n",
       "      <td>5</td>\n",
       "      <td>0</td>\n",
       "      <td>5.0</td>\n",
       "      <td>17.75</td>\n",
       "    </tr>\n",
       "    <tr>\n",
       "      <th>2</th>\n",
       "      <td>22520</td>\n",
       "      <td>K1604964</td>\n",
       "      <td>31-12-16</td>\n",
       "      <td>ISR03</td>\n",
       "      <td>SR10</td>\n",
       "      <td>2.252020e+11</td>\n",
       "      <td>Premium</td>\n",
       "      <td>RSF</td>\n",
       "      <td>RSF 100ML</td>\n",
       "      <td>RSFFMD08</td>\n",
       "      <td>10</td>\n",
       "      <td>0</td>\n",
       "      <td>10.0</td>\n",
       "      <td>44.94</td>\n",
       "    </tr>\n",
       "    <tr>\n",
       "      <th>3</th>\n",
       "      <td>22520</td>\n",
       "      <td>K1604963</td>\n",
       "      <td>31-12-16</td>\n",
       "      <td>ISR03</td>\n",
       "      <td>SR10</td>\n",
       "      <td>2.252020e+11</td>\n",
       "      <td>Executive</td>\n",
       "      <td>RSF</td>\n",
       "      <td>RSF 5Ltr Jar</td>\n",
       "      <td>RSFJRD03D</td>\n",
       "      <td>1</td>\n",
       "      <td>0</td>\n",
       "      <td>1.0</td>\n",
       "      <td>16.73</td>\n",
       "    </tr>\n",
       "    <tr>\n",
       "      <th>4</th>\n",
       "      <td>22520</td>\n",
       "      <td>K1604966</td>\n",
       "      <td>31-12-16</td>\n",
       "      <td>ISR03</td>\n",
       "      <td>SR10</td>\n",
       "      <td>2.252020e+11</td>\n",
       "      <td>ExecutiveBasic</td>\n",
       "      <td>RSF</td>\n",
       "      <td>RSF 1Ltr</td>\n",
       "      <td>RSFFMD01C</td>\n",
       "      <td>2</td>\n",
       "      <td>0</td>\n",
       "      <td>2.0</td>\n",
       "      <td>17.59</td>\n",
       "    </tr>\n",
       "    <tr>\n",
       "      <th>...</th>\n",
       "      <td>...</td>\n",
       "      <td>...</td>\n",
       "      <td>...</td>\n",
       "      <td>...</td>\n",
       "      <td>...</td>\n",
       "      <td>...</td>\n",
       "      <td>...</td>\n",
       "      <td>...</td>\n",
       "      <td>...</td>\n",
       "      <td>...</td>\n",
       "      <td>...</td>\n",
       "      <td>...</td>\n",
       "      <td>...</td>\n",
       "      <td>...</td>\n",
       "    </tr>\n",
       "    <tr>\n",
       "      <th>77273</th>\n",
       "      <td>22766</td>\n",
       "      <td>SRI1600071</td>\n",
       "      <td>28-12-16</td>\n",
       "      <td>SR002</td>\n",
       "      <td>SR006</td>\n",
       "      <td>2.276620e+11</td>\n",
       "      <td>Executive</td>\n",
       "      <td>Dhall</td>\n",
       "      <td>GRAM DHALL 500GM</td>\n",
       "      <td>GRDFMA02</td>\n",
       "      <td>1</td>\n",
       "      <td>0</td>\n",
       "      <td>1.0</td>\n",
       "      <td>0.00</td>\n",
       "    </tr>\n",
       "    <tr>\n",
       "      <th>77274</th>\n",
       "      <td>22766</td>\n",
       "      <td>SRI1600071</td>\n",
       "      <td>28-12-16</td>\n",
       "      <td>SR002</td>\n",
       "      <td>SR006</td>\n",
       "      <td>2.276620e+11</td>\n",
       "      <td>Executive</td>\n",
       "      <td>Dheepam</td>\n",
       "      <td>DHEEPAM 1Ltr</td>\n",
       "      <td>LAMPTB01F</td>\n",
       "      <td>3</td>\n",
       "      <td>0</td>\n",
       "      <td>3.0</td>\n",
       "      <td>0.00</td>\n",
       "    </tr>\n",
       "    <tr>\n",
       "      <th>77275</th>\n",
       "      <td>22766</td>\n",
       "      <td>SRI1600071</td>\n",
       "      <td>28-12-16</td>\n",
       "      <td>SR002</td>\n",
       "      <td>SR006</td>\n",
       "      <td>2.276620e+11</td>\n",
       "      <td>Executive</td>\n",
       "      <td>Dhall</td>\n",
       "      <td>MOONG DHALL 500GM</td>\n",
       "      <td>MODFMA02</td>\n",
       "      <td>1</td>\n",
       "      <td>0</td>\n",
       "      <td>1.0</td>\n",
       "      <td>0.00</td>\n",
       "    </tr>\n",
       "    <tr>\n",
       "      <th>77276</th>\n",
       "      <td>22766</td>\n",
       "      <td>SRI1600071</td>\n",
       "      <td>28-12-16</td>\n",
       "      <td>SR002</td>\n",
       "      <td>SR006</td>\n",
       "      <td>2.276620e+11</td>\n",
       "      <td>Executive</td>\n",
       "      <td>Dhall</td>\n",
       "      <td>ORID DHALL 500GM</td>\n",
       "      <td>ORDFMA02</td>\n",
       "      <td>1</td>\n",
       "      <td>0</td>\n",
       "      <td>1.0</td>\n",
       "      <td>0.00</td>\n",
       "    </tr>\n",
       "    <tr>\n",
       "      <th>77277</th>\n",
       "      <td>22766</td>\n",
       "      <td>SRI1600071</td>\n",
       "      <td>28-12-16</td>\n",
       "      <td>SR002</td>\n",
       "      <td>SR006</td>\n",
       "      <td>2.276620e+11</td>\n",
       "      <td>Executive</td>\n",
       "      <td>RSF</td>\n",
       "      <td>RSF 5Ltr Jar</td>\n",
       "      <td>RSFJRD03D</td>\n",
       "      <td>3</td>\n",
       "      <td>0</td>\n",
       "      <td>3.0</td>\n",
       "      <td>21.00</td>\n",
       "    </tr>\n",
       "  </tbody>\n",
       "</table>\n",
       "<p>77278 rows × 14 columns</p>\n",
       "</div>"
      ],
      "text/plain": [
       "       BA Code Sales Invoice No Sales Invoice Date Salesman Code  \\\n",
       "0        22520         K1604964           31-12-16         ISR03   \n",
       "1        22520         K1604964           31-12-16         ISR03   \n",
       "2        22520         K1604964           31-12-16         ISR03   \n",
       "3        22520         K1604963           31-12-16         ISR03   \n",
       "4        22520         K1604966           31-12-16         ISR03   \n",
       "...        ...              ...                ...           ...   \n",
       "77273    22766       SRI1600071           28-12-16         SR002   \n",
       "77274    22766       SRI1600071           28-12-16         SR002   \n",
       "77275    22766       SRI1600071           28-12-16         SR002   \n",
       "77276    22766       SRI1600071           28-12-16         SR002   \n",
       "77277    22766       SRI1600071           28-12-16         SR002   \n",
       "\n",
       "      Sales Route Code  Retailer Code     Class  Name Brand Group Name   \\\n",
       "0                 SR10   2.252020e+11         Premium               RSF   \n",
       "1                 SR10   2.252020e+11         Premium               RSF   \n",
       "2                 SR10   2.252020e+11         Premium               RSF   \n",
       "3                 SR10   2.252020e+11       Executive               RSF   \n",
       "4                 SR10   2.252020e+11  ExecutiveBasic               RSF   \n",
       "...                ...            ...             ...               ...   \n",
       "77273            SR006   2.276620e+11       Executive             Dhall   \n",
       "77274            SR006   2.276620e+11       Executive           Dheepam   \n",
       "77275            SR006   2.276620e+11       Executive             Dhall   \n",
       "77276            SR006   2.276620e+11       Executive             Dhall   \n",
       "77277            SR006   2.276620e+11       Executive               RSF   \n",
       "\n",
       "      Product Group Name Product Code  Product Quantity in Box  \\\n",
       "0               RSF 1Ltr    RSFFMD01C                        5   \n",
       "1              RSF 500ML     RSFFMD02                        5   \n",
       "2              RSF 100ML     RSFFMD08                       10   \n",
       "3           RSF 5Ltr Jar    RSFJRD03D                        1   \n",
       "4               RSF 1Ltr    RSFFMD01C                        2   \n",
       "...                  ...          ...                      ...   \n",
       "77273   GRAM DHALL 500GM     GRDFMA02                        1   \n",
       "77274       DHEEPAM 1Ltr    LAMPTB01F                        3   \n",
       "77275  MOONG DHALL 500GM     MODFMA02                        1   \n",
       "77276   ORID DHALL 500GM     ORDFMA02                        1   \n",
       "77277       RSF 5Ltr Jar    RSFJRD03D                        3   \n",
       "\n",
       "       Product Quantity in Nos  Total Product Quantity in Cases  \\\n",
       "0                            0                              5.0   \n",
       "1                            0                              5.0   \n",
       "2                            0                             10.0   \n",
       "3                            0                              1.0   \n",
       "4                            0                              2.0   \n",
       "...                        ...                              ...   \n",
       "77273                        0                              1.0   \n",
       "77274                        0                              3.0   \n",
       "77275                        0                              1.0   \n",
       "77276                        0                              1.0   \n",
       "77277                        0                              3.0   \n",
       "\n",
       "       Product Scheme Discount  \n",
       "0                        17.32  \n",
       "1                        17.75  \n",
       "2                        44.94  \n",
       "3                        16.73  \n",
       "4                        17.59  \n",
       "...                        ...  \n",
       "77273                     0.00  \n",
       "77274                     0.00  \n",
       "77275                     0.00  \n",
       "77276                     0.00  \n",
       "77277                    21.00  \n",
       "\n",
       "[77278 rows x 14 columns]"
      ]
     },
     "execution_count": 43,
     "metadata": {},
     "output_type": "execute_result"
    }
   ],
   "source": [
    "asales16"
   ]
  },
  {
   "cell_type": "code",
   "execution_count": 44,
   "id": "b4981bbf",
   "metadata": {},
   "outputs": [
    {
     "data": {
      "text/plain": [
       "(77278, 14)"
      ]
     },
     "execution_count": 44,
     "metadata": {},
     "output_type": "execute_result"
    }
   ],
   "source": [
    "asales16.shape"
   ]
  },
  {
   "cell_type": "code",
   "execution_count": 45,
   "id": "79d83296",
   "metadata": {},
   "outputs": [
    {
     "data": {
      "text/plain": [
       "BA Code                            0\n",
       "Sales Invoice No                   0\n",
       "Sales Invoice Date                 0\n",
       "Salesman Code                      0\n",
       "Sales Route Code                   0\n",
       "Retailer Code                      0\n",
       "Class  Name                        0\n",
       "Brand Group Name                   0\n",
       "Product Group Name                 0\n",
       "Product Code                       0\n",
       "Product Quantity in Box            0\n",
       "Product Quantity in Nos            0\n",
       "Total Product Quantity in Cases    0\n",
       "Product Scheme Discount            0\n",
       "dtype: int64"
      ]
     },
     "execution_count": 45,
     "metadata": {},
     "output_type": "execute_result"
    }
   ],
   "source": [
    "asales16.isnull().sum()"
   ]
  },
  {
   "cell_type": "code",
   "execution_count": 46,
   "id": "26d83327",
   "metadata": {},
   "outputs": [],
   "source": [
    "bsales17= pd.read_csv(\"C:/Users/karth/Downloads/ML Assignment (1)/ML Assignment/B Sales Details Jan'17 - Mar'17.csv\")"
   ]
  },
  {
   "cell_type": "code",
   "execution_count": 47,
   "id": "05a922b9",
   "metadata": {},
   "outputs": [
    {
     "data": {
      "text/html": [
       "<div>\n",
       "<style scoped>\n",
       "    .dataframe tbody tr th:only-of-type {\n",
       "        vertical-align: middle;\n",
       "    }\n",
       "\n",
       "    .dataframe tbody tr th {\n",
       "        vertical-align: top;\n",
       "    }\n",
       "\n",
       "    .dataframe thead th {\n",
       "        text-align: right;\n",
       "    }\n",
       "</style>\n",
       "<table border=\"1\" class=\"dataframe\">\n",
       "  <thead>\n",
       "    <tr style=\"text-align: right;\">\n",
       "      <th></th>\n",
       "      <th>BA Code</th>\n",
       "      <th>Sales Invoice No</th>\n",
       "      <th>Sales Invoice Date</th>\n",
       "      <th>Salesman Code</th>\n",
       "      <th>Sales Route Code</th>\n",
       "      <th>Retailer Code</th>\n",
       "      <th>Group Code</th>\n",
       "      <th>Class Name</th>\n",
       "      <th>Brand Group Name</th>\n",
       "      <th>Product Group Name</th>\n",
       "      <th>Product Code</th>\n",
       "      <th>Product Quantity in Box</th>\n",
       "      <th>Product Quantity in Nos</th>\n",
       "      <th>Total Product Quantity in Cases</th>\n",
       "      <th>Product Scheme Discount</th>\n",
       "    </tr>\n",
       "  </thead>\n",
       "  <tbody>\n",
       "    <tr>\n",
       "      <th>0</th>\n",
       "      <td>25591</td>\n",
       "      <td>K1605964</td>\n",
       "      <td>21-01-17</td>\n",
       "      <td>SM01</td>\n",
       "      <td>SR002</td>\n",
       "      <td>2.252020e+11</td>\n",
       "      <td>GOI</td>\n",
       "      <td>Signature</td>\n",
       "      <td>Dheepam</td>\n",
       "      <td>DHEEPAM 1Ltr</td>\n",
       "      <td>LAMPTB01F</td>\n",
       "      <td>1</td>\n",
       "      <td>0</td>\n",
       "      <td>1.0</td>\n",
       "      <td>0.00</td>\n",
       "    </tr>\n",
       "    <tr>\n",
       "      <th>1</th>\n",
       "      <td>25591</td>\n",
       "      <td>K1605963</td>\n",
       "      <td>21-01-17</td>\n",
       "      <td>SM01</td>\n",
       "      <td>SR002</td>\n",
       "      <td>2.252020e+11</td>\n",
       "      <td>GGK</td>\n",
       "      <td>Signature</td>\n",
       "      <td>Dheepam</td>\n",
       "      <td>DHEEPAM 1Ltr</td>\n",
       "      <td>LAMPTB01F</td>\n",
       "      <td>1</td>\n",
       "      <td>0</td>\n",
       "      <td>1.0</td>\n",
       "      <td>0.00</td>\n",
       "    </tr>\n",
       "    <tr>\n",
       "      <th>2</th>\n",
       "      <td>25591</td>\n",
       "      <td>K1605963</td>\n",
       "      <td>21-01-17</td>\n",
       "      <td>SM01</td>\n",
       "      <td>SR002</td>\n",
       "      <td>2.252020e+11</td>\n",
       "      <td>GGK</td>\n",
       "      <td>Signature</td>\n",
       "      <td>Orysa</td>\n",
       "      <td>ORYSA 1 LTR</td>\n",
       "      <td>RRBFMA01</td>\n",
       "      <td>1</td>\n",
       "      <td>0</td>\n",
       "      <td>1.0</td>\n",
       "      <td>0.00</td>\n",
       "    </tr>\n",
       "    <tr>\n",
       "      <th>3</th>\n",
       "      <td>25591</td>\n",
       "      <td>K1605963</td>\n",
       "      <td>21-01-17</td>\n",
       "      <td>SM01</td>\n",
       "      <td>SR002</td>\n",
       "      <td>2.252020e+11</td>\n",
       "      <td>GGK</td>\n",
       "      <td>Signature</td>\n",
       "      <td>RSF</td>\n",
       "      <td>RSF 1Ltr</td>\n",
       "      <td>RSFFMD01C</td>\n",
       "      <td>20</td>\n",
       "      <td>0</td>\n",
       "      <td>20.0</td>\n",
       "      <td>214.23</td>\n",
       "    </tr>\n",
       "    <tr>\n",
       "      <th>4</th>\n",
       "      <td>25591</td>\n",
       "      <td>K1605963</td>\n",
       "      <td>21-01-17</td>\n",
       "      <td>SM01</td>\n",
       "      <td>SR002</td>\n",
       "      <td>2.252020e+11</td>\n",
       "      <td>GGK</td>\n",
       "      <td>Signature</td>\n",
       "      <td>RSF</td>\n",
       "      <td>RSF 500ML</td>\n",
       "      <td>RSFFMD02</td>\n",
       "      <td>10</td>\n",
       "      <td>0</td>\n",
       "      <td>10.0</td>\n",
       "      <td>109.78</td>\n",
       "    </tr>\n",
       "    <tr>\n",
       "      <th>...</th>\n",
       "      <td>...</td>\n",
       "      <td>...</td>\n",
       "      <td>...</td>\n",
       "      <td>...</td>\n",
       "      <td>...</td>\n",
       "      <td>...</td>\n",
       "      <td>...</td>\n",
       "      <td>...</td>\n",
       "      <td>...</td>\n",
       "      <td>...</td>\n",
       "      <td>...</td>\n",
       "      <td>...</td>\n",
       "      <td>...</td>\n",
       "      <td>...</td>\n",
       "      <td>...</td>\n",
       "    </tr>\n",
       "    <tr>\n",
       "      <th>192770</th>\n",
       "      <td>22975</td>\n",
       "      <td>NA1400298</td>\n",
       "      <td>21-03-17</td>\n",
       "      <td>SM02</td>\n",
       "      <td>SR04-0000022975</td>\n",
       "      <td>2.252820e+11</td>\n",
       "      <td>GOT</td>\n",
       "      <td>FirstBusiness</td>\n",
       "      <td>RSF</td>\n",
       "      <td>RSF 500ML</td>\n",
       "      <td>RSFFMD02</td>\n",
       "      <td>50</td>\n",
       "      <td>0</td>\n",
       "      <td>50.0</td>\n",
       "      <td>231.90</td>\n",
       "    </tr>\n",
       "    <tr>\n",
       "      <th>192771</th>\n",
       "      <td>22975</td>\n",
       "      <td>NA1400298</td>\n",
       "      <td>21-03-17</td>\n",
       "      <td>SM02</td>\n",
       "      <td>SR04-0000022975</td>\n",
       "      <td>2.252820e+11</td>\n",
       "      <td>GOT</td>\n",
       "      <td>FirstBusiness</td>\n",
       "      <td>RSF</td>\n",
       "      <td>RSF 200ML</td>\n",
       "      <td>RSFFMD04</td>\n",
       "      <td>30</td>\n",
       "      <td>0</td>\n",
       "      <td>30.0</td>\n",
       "      <td>171.06</td>\n",
       "    </tr>\n",
       "    <tr>\n",
       "      <th>192772</th>\n",
       "      <td>22975</td>\n",
       "      <td>NA1400298</td>\n",
       "      <td>21-03-17</td>\n",
       "      <td>SM02</td>\n",
       "      <td>SR04-0000022975</td>\n",
       "      <td>2.252820e+11</td>\n",
       "      <td>GOT</td>\n",
       "      <td>FirstBusiness</td>\n",
       "      <td>RSF</td>\n",
       "      <td>RSF 100ML</td>\n",
       "      <td>RSFFMD08</td>\n",
       "      <td>20</td>\n",
       "      <td>0</td>\n",
       "      <td>20.0</td>\n",
       "      <td>117.38</td>\n",
       "    </tr>\n",
       "    <tr>\n",
       "      <th>192773</th>\n",
       "      <td>22975</td>\n",
       "      <td>NA1400298</td>\n",
       "      <td>21-03-17</td>\n",
       "      <td>SM02</td>\n",
       "      <td>SR04-0000022975</td>\n",
       "      <td>2.252820e+11</td>\n",
       "      <td>GOT</td>\n",
       "      <td>FirstBusiness</td>\n",
       "      <td>RSF</td>\n",
       "      <td>RSF 1Ltr Pet</td>\n",
       "      <td>RSFPTD01</td>\n",
       "      <td>3</td>\n",
       "      <td>0</td>\n",
       "      <td>3.0</td>\n",
       "      <td>14.35</td>\n",
       "    </tr>\n",
       "    <tr>\n",
       "      <th>192774</th>\n",
       "      <td>22975</td>\n",
       "      <td>NA1400298</td>\n",
       "      <td>21-03-17</td>\n",
       "      <td>SM02</td>\n",
       "      <td>SR04-0000022975</td>\n",
       "      <td>2.252820e+11</td>\n",
       "      <td>GOT</td>\n",
       "      <td>FirstBusiness</td>\n",
       "      <td>RSF</td>\n",
       "      <td>RSF 2Ltr Pet</td>\n",
       "      <td>RSFPTD15</td>\n",
       "      <td>5</td>\n",
       "      <td>0</td>\n",
       "      <td>5.0</td>\n",
       "      <td>29.03</td>\n",
       "    </tr>\n",
       "  </tbody>\n",
       "</table>\n",
       "<p>192775 rows × 15 columns</p>\n",
       "</div>"
      ],
      "text/plain": [
       "        BA Code Sales Invoice No Sales Invoice Date Salesman Code  \\\n",
       "0         25591         K1605964           21-01-17          SM01   \n",
       "1         25591         K1605963           21-01-17          SM01   \n",
       "2         25591         K1605963           21-01-17          SM01   \n",
       "3         25591         K1605963           21-01-17          SM01   \n",
       "4         25591         K1605963           21-01-17          SM01   \n",
       "...         ...              ...                ...           ...   \n",
       "192770    22975        NA1400298           21-03-17          SM02   \n",
       "192771    22975        NA1400298           21-03-17          SM02   \n",
       "192772    22975        NA1400298           21-03-17          SM02   \n",
       "192773    22975        NA1400298           21-03-17          SM02   \n",
       "192774    22975        NA1400298           21-03-17          SM02   \n",
       "\n",
       "       Sales Route Code  Retailer Code Group Code     Class Name  \\\n",
       "0                 SR002   2.252020e+11        GOI      Signature   \n",
       "1                 SR002   2.252020e+11        GGK      Signature   \n",
       "2                 SR002   2.252020e+11        GGK      Signature   \n",
       "3                 SR002   2.252020e+11        GGK      Signature   \n",
       "4                 SR002   2.252020e+11        GGK      Signature   \n",
       "...                 ...            ...        ...            ...   \n",
       "192770  SR04-0000022975   2.252820e+11        GOT  FirstBusiness   \n",
       "192771  SR04-0000022975   2.252820e+11        GOT  FirstBusiness   \n",
       "192772  SR04-0000022975   2.252820e+11        GOT  FirstBusiness   \n",
       "192773  SR04-0000022975   2.252820e+11        GOT  FirstBusiness   \n",
       "192774  SR04-0000022975   2.252820e+11        GOT  FirstBusiness   \n",
       "\n",
       "       Brand Group Name Product Group Name Product Code  \\\n",
       "0               Dheepam       DHEEPAM 1Ltr    LAMPTB01F   \n",
       "1               Dheepam       DHEEPAM 1Ltr    LAMPTB01F   \n",
       "2                 Orysa        ORYSA 1 LTR     RRBFMA01   \n",
       "3                   RSF           RSF 1Ltr    RSFFMD01C   \n",
       "4                   RSF          RSF 500ML     RSFFMD02   \n",
       "...                 ...                ...          ...   \n",
       "192770              RSF          RSF 500ML     RSFFMD02   \n",
       "192771              RSF          RSF 200ML     RSFFMD04   \n",
       "192772              RSF          RSF 100ML     RSFFMD08   \n",
       "192773              RSF       RSF 1Ltr Pet     RSFPTD01   \n",
       "192774              RSF       RSF 2Ltr Pet     RSFPTD15   \n",
       "\n",
       "        Product Quantity in Box  Product Quantity in Nos  \\\n",
       "0                             1                        0   \n",
       "1                             1                        0   \n",
       "2                             1                        0   \n",
       "3                            20                        0   \n",
       "4                            10                        0   \n",
       "...                         ...                      ...   \n",
       "192770                       50                        0   \n",
       "192771                       30                        0   \n",
       "192772                       20                        0   \n",
       "192773                        3                        0   \n",
       "192774                        5                        0   \n",
       "\n",
       "        Total Product Quantity in Cases  Product Scheme Discount  \n",
       "0                                   1.0                     0.00  \n",
       "1                                   1.0                     0.00  \n",
       "2                                   1.0                     0.00  \n",
       "3                                  20.0                   214.23  \n",
       "4                                  10.0                   109.78  \n",
       "...                                 ...                      ...  \n",
       "192770                             50.0                   231.90  \n",
       "192771                             30.0                   171.06  \n",
       "192772                             20.0                   117.38  \n",
       "192773                              3.0                    14.35  \n",
       "192774                              5.0                    29.03  \n",
       "\n",
       "[192775 rows x 15 columns]"
      ]
     },
     "execution_count": 47,
     "metadata": {},
     "output_type": "execute_result"
    }
   ],
   "source": [
    "bsales17"
   ]
  },
  {
   "cell_type": "code",
   "execution_count": 48,
   "id": "ff2cf3fb",
   "metadata": {
    "scrolled": false
   },
   "outputs": [
    {
     "data": {
      "text/html": [
       "<div>\n",
       "<style scoped>\n",
       "    .dataframe tbody tr th:only-of-type {\n",
       "        vertical-align: middle;\n",
       "    }\n",
       "\n",
       "    .dataframe tbody tr th {\n",
       "        vertical-align: top;\n",
       "    }\n",
       "\n",
       "    .dataframe thead th {\n",
       "        text-align: right;\n",
       "    }\n",
       "</style>\n",
       "<table border=\"1\" class=\"dataframe\">\n",
       "  <thead>\n",
       "    <tr style=\"text-align: right;\">\n",
       "      <th></th>\n",
       "      <th>BA Code</th>\n",
       "      <th>Sales Invoice No</th>\n",
       "      <th>Sales Invoice Date</th>\n",
       "      <th>Salesman Code</th>\n",
       "      <th>Sales Route Code</th>\n",
       "      <th>Retailer Code</th>\n",
       "      <th>Group Code</th>\n",
       "      <th>Class Name</th>\n",
       "      <th>Brand Group Name</th>\n",
       "      <th>Product Group Name</th>\n",
       "      <th>Product Code</th>\n",
       "      <th>Product Quantity in Box</th>\n",
       "      <th>Product Quantity in Nos</th>\n",
       "      <th>Total Product Quantity in Cases</th>\n",
       "      <th>Product Scheme Discount</th>\n",
       "    </tr>\n",
       "  </thead>\n",
       "  <tbody>\n",
       "    <tr>\n",
       "      <th>0</th>\n",
       "      <td>25591</td>\n",
       "      <td>K1605964</td>\n",
       "      <td>21-01-17</td>\n",
       "      <td>SM01</td>\n",
       "      <td>SR002</td>\n",
       "      <td>2.252020e+11</td>\n",
       "      <td>GOI</td>\n",
       "      <td>Signature</td>\n",
       "      <td>Dheepam</td>\n",
       "      <td>DHEEPAM 1Ltr</td>\n",
       "      <td>LAMPTB01F</td>\n",
       "      <td>1</td>\n",
       "      <td>0</td>\n",
       "      <td>1.0</td>\n",
       "      <td>0.00</td>\n",
       "    </tr>\n",
       "    <tr>\n",
       "      <th>1</th>\n",
       "      <td>25591</td>\n",
       "      <td>K1605963</td>\n",
       "      <td>21-01-17</td>\n",
       "      <td>SM01</td>\n",
       "      <td>SR002</td>\n",
       "      <td>2.252020e+11</td>\n",
       "      <td>GGK</td>\n",
       "      <td>Signature</td>\n",
       "      <td>Dheepam</td>\n",
       "      <td>DHEEPAM 1Ltr</td>\n",
       "      <td>LAMPTB01F</td>\n",
       "      <td>1</td>\n",
       "      <td>0</td>\n",
       "      <td>1.0</td>\n",
       "      <td>0.00</td>\n",
       "    </tr>\n",
       "    <tr>\n",
       "      <th>2</th>\n",
       "      <td>25591</td>\n",
       "      <td>K1605963</td>\n",
       "      <td>21-01-17</td>\n",
       "      <td>SM01</td>\n",
       "      <td>SR002</td>\n",
       "      <td>2.252020e+11</td>\n",
       "      <td>GGK</td>\n",
       "      <td>Signature</td>\n",
       "      <td>Orysa</td>\n",
       "      <td>ORYSA 1 LTR</td>\n",
       "      <td>RRBFMA01</td>\n",
       "      <td>1</td>\n",
       "      <td>0</td>\n",
       "      <td>1.0</td>\n",
       "      <td>0.00</td>\n",
       "    </tr>\n",
       "    <tr>\n",
       "      <th>3</th>\n",
       "      <td>25591</td>\n",
       "      <td>K1605963</td>\n",
       "      <td>21-01-17</td>\n",
       "      <td>SM01</td>\n",
       "      <td>SR002</td>\n",
       "      <td>2.252020e+11</td>\n",
       "      <td>GGK</td>\n",
       "      <td>Signature</td>\n",
       "      <td>RSF</td>\n",
       "      <td>RSF 1Ltr</td>\n",
       "      <td>RSFFMD01C</td>\n",
       "      <td>20</td>\n",
       "      <td>0</td>\n",
       "      <td>20.0</td>\n",
       "      <td>214.23</td>\n",
       "    </tr>\n",
       "    <tr>\n",
       "      <th>4</th>\n",
       "      <td>25591</td>\n",
       "      <td>K1605963</td>\n",
       "      <td>21-01-17</td>\n",
       "      <td>SM01</td>\n",
       "      <td>SR002</td>\n",
       "      <td>2.252020e+11</td>\n",
       "      <td>GGK</td>\n",
       "      <td>Signature</td>\n",
       "      <td>RSF</td>\n",
       "      <td>RSF 500ML</td>\n",
       "      <td>RSFFMD02</td>\n",
       "      <td>10</td>\n",
       "      <td>0</td>\n",
       "      <td>10.0</td>\n",
       "      <td>109.78</td>\n",
       "    </tr>\n",
       "  </tbody>\n",
       "</table>\n",
       "</div>"
      ],
      "text/plain": [
       "   BA Code Sales Invoice No Sales Invoice Date Salesman Code Sales Route Code  \\\n",
       "0    25591         K1605964           21-01-17          SM01            SR002   \n",
       "1    25591         K1605963           21-01-17          SM01            SR002   \n",
       "2    25591         K1605963           21-01-17          SM01            SR002   \n",
       "3    25591         K1605963           21-01-17          SM01            SR002   \n",
       "4    25591         K1605963           21-01-17          SM01            SR002   \n",
       "\n",
       "   Retailer Code Group Code Class Name Brand Group Name Product Group Name  \\\n",
       "0   2.252020e+11        GOI  Signature          Dheepam       DHEEPAM 1Ltr   \n",
       "1   2.252020e+11        GGK  Signature          Dheepam       DHEEPAM 1Ltr   \n",
       "2   2.252020e+11        GGK  Signature            Orysa        ORYSA 1 LTR   \n",
       "3   2.252020e+11        GGK  Signature              RSF           RSF 1Ltr   \n",
       "4   2.252020e+11        GGK  Signature              RSF          RSF 500ML   \n",
       "\n",
       "  Product Code  Product Quantity in Box  Product Quantity in Nos  \\\n",
       "0    LAMPTB01F                        1                        0   \n",
       "1    LAMPTB01F                        1                        0   \n",
       "2     RRBFMA01                        1                        0   \n",
       "3    RSFFMD01C                       20                        0   \n",
       "4     RSFFMD02                       10                        0   \n",
       "\n",
       "   Total Product Quantity in Cases  Product Scheme Discount  \n",
       "0                              1.0                     0.00  \n",
       "1                              1.0                     0.00  \n",
       "2                              1.0                     0.00  \n",
       "3                             20.0                   214.23  \n",
       "4                             10.0                   109.78  "
      ]
     },
     "execution_count": 48,
     "metadata": {},
     "output_type": "execute_result"
    }
   ],
   "source": [
    "bsales17.head()"
   ]
  },
  {
   "cell_type": "code",
   "execution_count": 49,
   "id": "f3eedc65",
   "metadata": {},
   "outputs": [
    {
     "data": {
      "text/plain": [
       "(192775, 15)"
      ]
     },
     "execution_count": 49,
     "metadata": {},
     "output_type": "execute_result"
    }
   ],
   "source": [
    "bsales17.shape"
   ]
  },
  {
   "cell_type": "code",
   "execution_count": 50,
   "id": "22d66ec4",
   "metadata": {},
   "outputs": [
    {
     "data": {
      "text/plain": [
       "BA Code                            0\n",
       "Sales Invoice No                   0\n",
       "Sales Invoice Date                 0\n",
       "Salesman Code                      0\n",
       "Sales Route Code                   0\n",
       "Retailer Code                      0\n",
       "Group Code                         0\n",
       "Class Name                         0\n",
       "Brand Group Name                   0\n",
       "Product Group Name                 0\n",
       "Product Code                       0\n",
       "Product Quantity in Box            0\n",
       "Product Quantity in Nos            0\n",
       "Total Product Quantity in Cases    0\n",
       "Product Scheme Discount            0\n",
       "dtype: int64"
      ]
     },
     "execution_count": 50,
     "metadata": {},
     "output_type": "execute_result"
    }
   ],
   "source": [
    "bsales17.isnull().sum()"
   ]
  },
  {
   "cell_type": "code",
   "execution_count": 51,
   "id": "9dae4062",
   "metadata": {},
   "outputs": [],
   "source": [
    "import numpy as np\n",
    "import pandas as pd\n",
    "import matplotlib.pyplot as plt\n",
    "import seaborn as sns\n",
    "sns.set()\n",
    "sns.set(style=\"darkgrid\")\n",
    "\n",
    "%matplotlib inline"
   ]
  },
  {
   "cell_type": "code",
   "execution_count": 52,
   "id": "67765891",
   "metadata": {},
   "outputs": [],
   "source": [
    "import seaborn as sns\n",
    "sns.set()\n",
    "sns.set(style=\"darkgrid\")"
   ]
  },
  {
   "cell_type": "code",
   "execution_count": 53,
   "id": "59fae3f3",
   "metadata": {},
   "outputs": [],
   "source": [
    "a_sales_details= pd.read_csv(\"C:/Users/karth/Downloads/ML Assignment (1)/ML Assignment/A Sales Details Nov'16 - Dec'16.csv\")\n",
    "a_sales_details = a_sales_details.dropna(how=\"any\")\n",
    "a_sales_details.head()\n",
    "a_sales_details.columns=a_sales_details.columns.str.replace(' ', '')"
   ]
  },
  {
   "cell_type": "code",
   "execution_count": 54,
   "id": "6ece2b70",
   "metadata": {},
   "outputs": [
    {
     "data": {
      "text/plain": [
       "(77278, 14)"
      ]
     },
     "execution_count": 54,
     "metadata": {},
     "output_type": "execute_result"
    }
   ],
   "source": [
    "a_sales_details.shape"
   ]
  },
  {
   "cell_type": "code",
   "execution_count": 55,
   "id": "af357e70",
   "metadata": {},
   "outputs": [
    {
     "data": {
      "text/html": [
       "<div>\n",
       "<style scoped>\n",
       "    .dataframe tbody tr th:only-of-type {\n",
       "        vertical-align: middle;\n",
       "    }\n",
       "\n",
       "    .dataframe tbody tr th {\n",
       "        vertical-align: top;\n",
       "    }\n",
       "\n",
       "    .dataframe thead th {\n",
       "        text-align: right;\n",
       "    }\n",
       "</style>\n",
       "<table border=\"1\" class=\"dataframe\">\n",
       "  <thead>\n",
       "    <tr style=\"text-align: right;\">\n",
       "      <th></th>\n",
       "      <th>BACode</th>\n",
       "      <th>SalesInvoiceNo</th>\n",
       "      <th>SalesInvoiceDate</th>\n",
       "      <th>SalesmanCode</th>\n",
       "      <th>SalesRouteCode</th>\n",
       "      <th>RetailerCode</th>\n",
       "      <th>ClassName</th>\n",
       "      <th>BrandGroupName</th>\n",
       "      <th>ProductGroupName</th>\n",
       "      <th>ProductCode</th>\n",
       "      <th>ProductQuantityinBox</th>\n",
       "      <th>ProductQuantityinNos</th>\n",
       "      <th>TotalProductQuantityinCases</th>\n",
       "      <th>ProductSchemeDiscount</th>\n",
       "    </tr>\n",
       "  </thead>\n",
       "  <tbody>\n",
       "    <tr>\n",
       "      <th>0</th>\n",
       "      <td>22520</td>\n",
       "      <td>K1604964</td>\n",
       "      <td>31-12-16</td>\n",
       "      <td>ISR03</td>\n",
       "      <td>SR10</td>\n",
       "      <td>2.252020e+11</td>\n",
       "      <td>Premium</td>\n",
       "      <td>RSF</td>\n",
       "      <td>RSF 1Ltr</td>\n",
       "      <td>RSFFMD01C</td>\n",
       "      <td>5</td>\n",
       "      <td>0</td>\n",
       "      <td>5.0</td>\n",
       "      <td>17.32</td>\n",
       "    </tr>\n",
       "    <tr>\n",
       "      <th>1</th>\n",
       "      <td>22520</td>\n",
       "      <td>K1604964</td>\n",
       "      <td>31-12-16</td>\n",
       "      <td>ISR03</td>\n",
       "      <td>SR10</td>\n",
       "      <td>2.252020e+11</td>\n",
       "      <td>Premium</td>\n",
       "      <td>RSF</td>\n",
       "      <td>RSF 500ML</td>\n",
       "      <td>RSFFMD02</td>\n",
       "      <td>5</td>\n",
       "      <td>0</td>\n",
       "      <td>5.0</td>\n",
       "      <td>17.75</td>\n",
       "    </tr>\n",
       "    <tr>\n",
       "      <th>2</th>\n",
       "      <td>22520</td>\n",
       "      <td>K1604964</td>\n",
       "      <td>31-12-16</td>\n",
       "      <td>ISR03</td>\n",
       "      <td>SR10</td>\n",
       "      <td>2.252020e+11</td>\n",
       "      <td>Premium</td>\n",
       "      <td>RSF</td>\n",
       "      <td>RSF 100ML</td>\n",
       "      <td>RSFFMD08</td>\n",
       "      <td>10</td>\n",
       "      <td>0</td>\n",
       "      <td>10.0</td>\n",
       "      <td>44.94</td>\n",
       "    </tr>\n",
       "    <tr>\n",
       "      <th>3</th>\n",
       "      <td>22520</td>\n",
       "      <td>K1604963</td>\n",
       "      <td>31-12-16</td>\n",
       "      <td>ISR03</td>\n",
       "      <td>SR10</td>\n",
       "      <td>2.252020e+11</td>\n",
       "      <td>Executive</td>\n",
       "      <td>RSF</td>\n",
       "      <td>RSF 5Ltr Jar</td>\n",
       "      <td>RSFJRD03D</td>\n",
       "      <td>1</td>\n",
       "      <td>0</td>\n",
       "      <td>1.0</td>\n",
       "      <td>16.73</td>\n",
       "    </tr>\n",
       "    <tr>\n",
       "      <th>4</th>\n",
       "      <td>22520</td>\n",
       "      <td>K1604966</td>\n",
       "      <td>31-12-16</td>\n",
       "      <td>ISR03</td>\n",
       "      <td>SR10</td>\n",
       "      <td>2.252020e+11</td>\n",
       "      <td>ExecutiveBasic</td>\n",
       "      <td>RSF</td>\n",
       "      <td>RSF 1Ltr</td>\n",
       "      <td>RSFFMD01C</td>\n",
       "      <td>2</td>\n",
       "      <td>0</td>\n",
       "      <td>2.0</td>\n",
       "      <td>17.59</td>\n",
       "    </tr>\n",
       "  </tbody>\n",
       "</table>\n",
       "</div>"
      ],
      "text/plain": [
       "   BACode SalesInvoiceNo SalesInvoiceDate SalesmanCode SalesRouteCode  \\\n",
       "0   22520       K1604964         31-12-16        ISR03           SR10   \n",
       "1   22520       K1604964         31-12-16        ISR03           SR10   \n",
       "2   22520       K1604964         31-12-16        ISR03           SR10   \n",
       "3   22520       K1604963         31-12-16        ISR03           SR10   \n",
       "4   22520       K1604966         31-12-16        ISR03           SR10   \n",
       "\n",
       "   RetailerCode       ClassName BrandGroupName ProductGroupName ProductCode  \\\n",
       "0  2.252020e+11         Premium            RSF         RSF 1Ltr   RSFFMD01C   \n",
       "1  2.252020e+11         Premium            RSF        RSF 500ML    RSFFMD02   \n",
       "2  2.252020e+11         Premium            RSF        RSF 100ML    RSFFMD08   \n",
       "3  2.252020e+11       Executive            RSF     RSF 5Ltr Jar   RSFJRD03D   \n",
       "4  2.252020e+11  ExecutiveBasic            RSF         RSF 1Ltr   RSFFMD01C   \n",
       "\n",
       "   ProductQuantityinBox  ProductQuantityinNos  TotalProductQuantityinCases  \\\n",
       "0                     5                     0                          5.0   \n",
       "1                     5                     0                          5.0   \n",
       "2                    10                     0                         10.0   \n",
       "3                     1                     0                          1.0   \n",
       "4                     2                     0                          2.0   \n",
       "\n",
       "   ProductSchemeDiscount  \n",
       "0                  17.32  \n",
       "1                  17.75  \n",
       "2                  44.94  \n",
       "3                  16.73  \n",
       "4                  17.59  "
      ]
     },
     "execution_count": 55,
     "metadata": {},
     "output_type": "execute_result"
    }
   ],
   "source": [
    "b_sales_details= pd.read_csv(\"C:/Users/karth/Downloads/ML Assignment (1)/ML Assignment/B Sales Details Jan'17 - Mar'17.csv\")\n",
    "b_sales_details = b_sales_details.dropna(how=\"any\")\n",
    "b_sales_details.head()\n",
    "b_sales_details.shape\n",
    "a_sales_details.head()"
   ]
  },
  {
   "cell_type": "code",
   "execution_count": 56,
   "id": "6dd4e2e9",
   "metadata": {},
   "outputs": [],
   "source": [
    "b_sales_details.columns=b_sales_details.columns.str.replace(' ', '')"
   ]
  },
  {
   "cell_type": "code",
   "execution_count": 57,
   "id": "331ae0ce",
   "metadata": {},
   "outputs": [
    {
     "data": {
      "text/html": [
       "<div>\n",
       "<style scoped>\n",
       "    .dataframe tbody tr th:only-of-type {\n",
       "        vertical-align: middle;\n",
       "    }\n",
       "\n",
       "    .dataframe tbody tr th {\n",
       "        vertical-align: top;\n",
       "    }\n",
       "\n",
       "    .dataframe thead th {\n",
       "        text-align: right;\n",
       "    }\n",
       "</style>\n",
       "<table border=\"1\" class=\"dataframe\">\n",
       "  <thead>\n",
       "    <tr style=\"text-align: right;\">\n",
       "      <th></th>\n",
       "      <th>BACode</th>\n",
       "      <th>SalesInvoiceNo</th>\n",
       "      <th>SalesInvoiceDate</th>\n",
       "      <th>SalesmanCode</th>\n",
       "      <th>SalesRouteCode</th>\n",
       "      <th>RetailerCode</th>\n",
       "      <th>GroupCode</th>\n",
       "      <th>ClassName</th>\n",
       "      <th>BrandGroupName</th>\n",
       "      <th>ProductGroupName</th>\n",
       "      <th>ProductCode</th>\n",
       "      <th>ProductQuantityinBox</th>\n",
       "      <th>ProductQuantityinNos</th>\n",
       "      <th>TotalProductQuantityinCases</th>\n",
       "      <th>ProductSchemeDiscount</th>\n",
       "    </tr>\n",
       "  </thead>\n",
       "  <tbody>\n",
       "    <tr>\n",
       "      <th>192770</th>\n",
       "      <td>22975</td>\n",
       "      <td>NA1400298</td>\n",
       "      <td>21-03-17</td>\n",
       "      <td>SM02</td>\n",
       "      <td>SR04-0000022975</td>\n",
       "      <td>2.252820e+11</td>\n",
       "      <td>GOT</td>\n",
       "      <td>FirstBusiness</td>\n",
       "      <td>RSF</td>\n",
       "      <td>RSF 500ML</td>\n",
       "      <td>RSFFMD02</td>\n",
       "      <td>50</td>\n",
       "      <td>0</td>\n",
       "      <td>50.0</td>\n",
       "      <td>231.90</td>\n",
       "    </tr>\n",
       "    <tr>\n",
       "      <th>192771</th>\n",
       "      <td>22975</td>\n",
       "      <td>NA1400298</td>\n",
       "      <td>21-03-17</td>\n",
       "      <td>SM02</td>\n",
       "      <td>SR04-0000022975</td>\n",
       "      <td>2.252820e+11</td>\n",
       "      <td>GOT</td>\n",
       "      <td>FirstBusiness</td>\n",
       "      <td>RSF</td>\n",
       "      <td>RSF 200ML</td>\n",
       "      <td>RSFFMD04</td>\n",
       "      <td>30</td>\n",
       "      <td>0</td>\n",
       "      <td>30.0</td>\n",
       "      <td>171.06</td>\n",
       "    </tr>\n",
       "    <tr>\n",
       "      <th>192772</th>\n",
       "      <td>22975</td>\n",
       "      <td>NA1400298</td>\n",
       "      <td>21-03-17</td>\n",
       "      <td>SM02</td>\n",
       "      <td>SR04-0000022975</td>\n",
       "      <td>2.252820e+11</td>\n",
       "      <td>GOT</td>\n",
       "      <td>FirstBusiness</td>\n",
       "      <td>RSF</td>\n",
       "      <td>RSF 100ML</td>\n",
       "      <td>RSFFMD08</td>\n",
       "      <td>20</td>\n",
       "      <td>0</td>\n",
       "      <td>20.0</td>\n",
       "      <td>117.38</td>\n",
       "    </tr>\n",
       "    <tr>\n",
       "      <th>192773</th>\n",
       "      <td>22975</td>\n",
       "      <td>NA1400298</td>\n",
       "      <td>21-03-17</td>\n",
       "      <td>SM02</td>\n",
       "      <td>SR04-0000022975</td>\n",
       "      <td>2.252820e+11</td>\n",
       "      <td>GOT</td>\n",
       "      <td>FirstBusiness</td>\n",
       "      <td>RSF</td>\n",
       "      <td>RSF 1Ltr Pet</td>\n",
       "      <td>RSFPTD01</td>\n",
       "      <td>3</td>\n",
       "      <td>0</td>\n",
       "      <td>3.0</td>\n",
       "      <td>14.35</td>\n",
       "    </tr>\n",
       "    <tr>\n",
       "      <th>192774</th>\n",
       "      <td>22975</td>\n",
       "      <td>NA1400298</td>\n",
       "      <td>21-03-17</td>\n",
       "      <td>SM02</td>\n",
       "      <td>SR04-0000022975</td>\n",
       "      <td>2.252820e+11</td>\n",
       "      <td>GOT</td>\n",
       "      <td>FirstBusiness</td>\n",
       "      <td>RSF</td>\n",
       "      <td>RSF 2Ltr Pet</td>\n",
       "      <td>RSFPTD15</td>\n",
       "      <td>5</td>\n",
       "      <td>0</td>\n",
       "      <td>5.0</td>\n",
       "      <td>29.03</td>\n",
       "    </tr>\n",
       "  </tbody>\n",
       "</table>\n",
       "</div>"
      ],
      "text/plain": [
       "        BACode SalesInvoiceNo SalesInvoiceDate SalesmanCode   SalesRouteCode  \\\n",
       "192770   22975      NA1400298         21-03-17         SM02  SR04-0000022975   \n",
       "192771   22975      NA1400298         21-03-17         SM02  SR04-0000022975   \n",
       "192772   22975      NA1400298         21-03-17         SM02  SR04-0000022975   \n",
       "192773   22975      NA1400298         21-03-17         SM02  SR04-0000022975   \n",
       "192774   22975      NA1400298         21-03-17         SM02  SR04-0000022975   \n",
       "\n",
       "        RetailerCode GroupCode      ClassName BrandGroupName ProductGroupName  \\\n",
       "192770  2.252820e+11       GOT  FirstBusiness            RSF        RSF 500ML   \n",
       "192771  2.252820e+11       GOT  FirstBusiness            RSF        RSF 200ML   \n",
       "192772  2.252820e+11       GOT  FirstBusiness            RSF        RSF 100ML   \n",
       "192773  2.252820e+11       GOT  FirstBusiness            RSF     RSF 1Ltr Pet   \n",
       "192774  2.252820e+11       GOT  FirstBusiness            RSF     RSF 2Ltr Pet   \n",
       "\n",
       "       ProductCode  ProductQuantityinBox  ProductQuantityinNos  \\\n",
       "192770    RSFFMD02                    50                     0   \n",
       "192771    RSFFMD04                    30                     0   \n",
       "192772    RSFFMD08                    20                     0   \n",
       "192773    RSFPTD01                     3                     0   \n",
       "192774    RSFPTD15                     5                     0   \n",
       "\n",
       "        TotalProductQuantityinCases  ProductSchemeDiscount  \n",
       "192770                         50.0                 231.90  \n",
       "192771                         30.0                 171.06  \n",
       "192772                         20.0                 117.38  \n",
       "192773                          3.0                  14.35  \n",
       "192774                          5.0                  29.03  "
      ]
     },
     "execution_count": 57,
     "metadata": {},
     "output_type": "execute_result"
    }
   ],
   "source": [
    "\n",
    "b_sales_details.tail()"
   ]
  },
  {
   "cell_type": "code",
   "execution_count": 58,
   "id": "29d004a1",
   "metadata": {
    "scrolled": true
   },
   "outputs": [
    {
     "data": {
      "text/html": [
       "<div>\n",
       "<style scoped>\n",
       "    .dataframe tbody tr th:only-of-type {\n",
       "        vertical-align: middle;\n",
       "    }\n",
       "\n",
       "    .dataframe tbody tr th {\n",
       "        vertical-align: top;\n",
       "    }\n",
       "\n",
       "    .dataframe thead th {\n",
       "        text-align: right;\n",
       "    }\n",
       "</style>\n",
       "<table border=\"1\" class=\"dataframe\">\n",
       "  <thead>\n",
       "    <tr style=\"text-align: right;\">\n",
       "      <th></th>\n",
       "      <th>BACode</th>\n",
       "      <th>SalesInvoiceNo</th>\n",
       "      <th>SalesInvoiceDate</th>\n",
       "      <th>SalesmanCode</th>\n",
       "      <th>SalesRouteCode</th>\n",
       "      <th>RetailerCode</th>\n",
       "      <th>ClassName</th>\n",
       "      <th>BrandGroupName</th>\n",
       "      <th>ProductGroupName</th>\n",
       "      <th>ProductCode</th>\n",
       "      <th>ProductQuantityinBox</th>\n",
       "      <th>ProductQuantityinNos</th>\n",
       "      <th>TotalProductQuantityinCases</th>\n",
       "      <th>ProductSchemeDiscount</th>\n",
       "      <th>GroupCode</th>\n",
       "      <th>ClassName</th>\n",
       "      <th>BrandGroupName</th>\n",
       "    </tr>\n",
       "  </thead>\n",
       "  <tbody>\n",
       "    <tr>\n",
       "      <th>0</th>\n",
       "      <td>22520</td>\n",
       "      <td>K1604964</td>\n",
       "      <td>31-12-16</td>\n",
       "      <td>ISR03</td>\n",
       "      <td>SR10</td>\n",
       "      <td>2.252020e+11</td>\n",
       "      <td>Premium</td>\n",
       "      <td>RSF</td>\n",
       "      <td>RSF 1Ltr</td>\n",
       "      <td>RSFFMD01C</td>\n",
       "      <td>5</td>\n",
       "      <td>0</td>\n",
       "      <td>5.0</td>\n",
       "      <td>17.32</td>\n",
       "      <td>NaN</td>\n",
       "      <td>NaN</td>\n",
       "      <td>NaN</td>\n",
       "    </tr>\n",
       "    <tr>\n",
       "      <th>1</th>\n",
       "      <td>22520</td>\n",
       "      <td>K1604964</td>\n",
       "      <td>31-12-16</td>\n",
       "      <td>ISR03</td>\n",
       "      <td>SR10</td>\n",
       "      <td>2.252020e+11</td>\n",
       "      <td>Premium</td>\n",
       "      <td>RSF</td>\n",
       "      <td>RSF 500ML</td>\n",
       "      <td>RSFFMD02</td>\n",
       "      <td>5</td>\n",
       "      <td>0</td>\n",
       "      <td>5.0</td>\n",
       "      <td>17.75</td>\n",
       "      <td>NaN</td>\n",
       "      <td>NaN</td>\n",
       "      <td>NaN</td>\n",
       "    </tr>\n",
       "    <tr>\n",
       "      <th>2</th>\n",
       "      <td>22520</td>\n",
       "      <td>K1604964</td>\n",
       "      <td>31-12-16</td>\n",
       "      <td>ISR03</td>\n",
       "      <td>SR10</td>\n",
       "      <td>2.252020e+11</td>\n",
       "      <td>Premium</td>\n",
       "      <td>RSF</td>\n",
       "      <td>RSF 100ML</td>\n",
       "      <td>RSFFMD08</td>\n",
       "      <td>10</td>\n",
       "      <td>0</td>\n",
       "      <td>10.0</td>\n",
       "      <td>44.94</td>\n",
       "      <td>NaN</td>\n",
       "      <td>NaN</td>\n",
       "      <td>NaN</td>\n",
       "    </tr>\n",
       "    <tr>\n",
       "      <th>3</th>\n",
       "      <td>22520</td>\n",
       "      <td>K1604963</td>\n",
       "      <td>31-12-16</td>\n",
       "      <td>ISR03</td>\n",
       "      <td>SR10</td>\n",
       "      <td>2.252020e+11</td>\n",
       "      <td>Executive</td>\n",
       "      <td>RSF</td>\n",
       "      <td>RSF 5Ltr Jar</td>\n",
       "      <td>RSFJRD03D</td>\n",
       "      <td>1</td>\n",
       "      <td>0</td>\n",
       "      <td>1.0</td>\n",
       "      <td>16.73</td>\n",
       "      <td>NaN</td>\n",
       "      <td>NaN</td>\n",
       "      <td>NaN</td>\n",
       "    </tr>\n",
       "    <tr>\n",
       "      <th>4</th>\n",
       "      <td>22520</td>\n",
       "      <td>K1604966</td>\n",
       "      <td>31-12-16</td>\n",
       "      <td>ISR03</td>\n",
       "      <td>SR10</td>\n",
       "      <td>2.252020e+11</td>\n",
       "      <td>ExecutiveBasic</td>\n",
       "      <td>RSF</td>\n",
       "      <td>RSF 1Ltr</td>\n",
       "      <td>RSFFMD01C</td>\n",
       "      <td>2</td>\n",
       "      <td>0</td>\n",
       "      <td>2.0</td>\n",
       "      <td>17.59</td>\n",
       "      <td>NaN</td>\n",
       "      <td>NaN</td>\n",
       "      <td>NaN</td>\n",
       "    </tr>\n",
       "  </tbody>\n",
       "</table>\n",
       "</div>"
      ],
      "text/plain": [
       "   BACode SalesInvoiceNo SalesInvoiceDate SalesmanCode SalesRouteCode  \\\n",
       "0   22520       K1604964         31-12-16        ISR03           SR10   \n",
       "1   22520       K1604964         31-12-16        ISR03           SR10   \n",
       "2   22520       K1604964         31-12-16        ISR03           SR10   \n",
       "3   22520       K1604963         31-12-16        ISR03           SR10   \n",
       "4   22520       K1604966         31-12-16        ISR03           SR10   \n",
       "\n",
       "   RetailerCode       ClassName BrandGroupName ProductGroupName ProductCode  \\\n",
       "0  2.252020e+11         Premium            RSF         RSF 1Ltr   RSFFMD01C   \n",
       "1  2.252020e+11         Premium            RSF        RSF 500ML    RSFFMD02   \n",
       "2  2.252020e+11         Premium            RSF        RSF 100ML    RSFFMD08   \n",
       "3  2.252020e+11       Executive            RSF     RSF 5Ltr Jar   RSFJRD03D   \n",
       "4  2.252020e+11  ExecutiveBasic            RSF         RSF 1Ltr   RSFFMD01C   \n",
       "\n",
       "   ProductQuantityinBox  ProductQuantityinNos  TotalProductQuantityinCases  \\\n",
       "0                     5                     0                          5.0   \n",
       "1                     5                     0                          5.0   \n",
       "2                    10                     0                         10.0   \n",
       "3                     1                     0                          1.0   \n",
       "4                     2                     0                          2.0   \n",
       "\n",
       "   ProductSchemeDiscount GroupCode ClassName BrandGroupName  \n",
       "0                  17.32       NaN       NaN            NaN  \n",
       "1                  17.75       NaN       NaN            NaN  \n",
       "2                  44.94       NaN       NaN            NaN  \n",
       "3                  16.73       NaN       NaN            NaN  \n",
       "4                  17.59       NaN       NaN            NaN  "
      ]
     },
     "execution_count": 58,
     "metadata": {},
     "output_type": "execute_result"
    }
   ],
   "source": [
    "\n",
    "merged_df = pd.concat(map(pd.read_csv,[\"C:/Users/karth/Downloads/ML Assignment (1)/ML Assignment/A Sales Details Nov'16 - Dec'16.csv\", \"C:/Users/karth/Downloads/ML Assignment (1)/ML Assignment/B Sales Details Jan'17 - Mar'17.csv\"]), ignore_index=True)\n",
    "merged_df.columns=merged_df.columns.str.replace(' ', '')\n",
    "merged_df.head()"
   ]
  },
  {
   "cell_type": "code",
   "execution_count": 59,
   "id": "d6b4aafd",
   "metadata": {},
   "outputs": [
    {
     "data": {
      "text/plain": [
       "BACode                              0\n",
       "SalesInvoiceNo                      0\n",
       "SalesInvoiceDate                    0\n",
       "SalesmanCode                        0\n",
       "SalesRouteCode                      0\n",
       "RetailerCode                        0\n",
       "ClassName                      192775\n",
       "BrandGroupName                 192775\n",
       "ProductGroupName                    0\n",
       "ProductCode                         0\n",
       "ProductQuantityinBox                0\n",
       "ProductQuantityinNos                0\n",
       "TotalProductQuantityinCases         0\n",
       "ProductSchemeDiscount               0\n",
       "GroupCode                       77278\n",
       "ClassName                       77278\n",
       "BrandGroupName                  77278\n",
       "dtype: int64"
      ]
     },
     "execution_count": 59,
     "metadata": {},
     "output_type": "execute_result"
    }
   ],
   "source": [
    "merged_df.isnull().sum()"
   ]
  },
  {
   "cell_type": "code",
   "execution_count": 60,
   "id": "394e06fe",
   "metadata": {
    "scrolled": true
   },
   "outputs": [
    {
     "data": {
      "image/png": "[encoded data removed]",
      "text/plain": [
       "<Figure size 432x288 with 1 Axes>"
      ]
     },
     "metadata": {},
     "output_type": "display_data"
    }
   ],
   "source": [
    "sns.lineplot(x=\"ProductQuantityinNos\", y=\"ProductQuantityinBox\",data=merged_df[:50]);"
   ]
  },
  {
   "cell_type": "code",
   "execution_count": 61,
   "id": "1e51315e",
   "metadata": {},
   "outputs": [
    {
     "data": {
      "image/png": "[encoded data removed]",
      "text/plain": [
       "<Figure size 432x288 with 1 Axes>"
      ]
     },
     "metadata": {},
     "output_type": "display_data"
    }
   ],
   "source": [
    "datamerged_graph=sns.lineplot(x=\"TotalProductQuantityinCases\", y=\"ProductSchemeDiscount\",data=merged_df[:50]);"
   ]
  },
  {
   "cell_type": "code",
   "execution_count": 62,
   "id": "209c4598",
   "metadata": {
    "scrolled": true
   },
   "outputs": [
    {
     "data": {
      "image/png": "[encoded data removed]",
      "text/plain": [
       "<Figure size 3600x1080 with 1 Axes>"
      ]
     },
     "metadata": {},
     "output_type": "display_data"
    }
   ],
   "source": [
    "sns.set(rc = {'figure.figsize':(50,15)})\n",
    "datamerged_graph=sns.barplot(x=\"SalesmanCode\", y=\"TotalProductQuantityinCases\",data=merged_df[:]);\n"
   ]
  },
  {
   "cell_type": "code",
   "execution_count": 63,
   "id": "4fb4f3a4",
   "metadata": {
    "scrolled": false
   },
   "outputs": [
    {
     "data": {
      "image/png": "[encoded data removed]",
      "text/plain": [
       "<Figure size 7200x432 with 1 Axes>"
      ]
     },
     "metadata": {},
     "output_type": "display_data"
    }
   ],
   "source": [
    "sns.set(rc = {'figure.figsize':(100,6)})\n",
    "sns.lineplot(x=\"ProductGroupName\", y=\"TotalProductQuantityinCases\", data=merged_df[:]);"
   ]
  },
  {
   "cell_type": "code",
   "execution_count": 64,
   "id": "c3d5766a",
   "metadata": {},
   "outputs": [
    {
     "data": {
      "image/png": "[encoded data removed]",
      "text/plain": [
       "<Figure size 7200x432 with 1 Axes>"
      ]
     },
     "metadata": {},
     "output_type": "display_data"
    }
   ],
   "source": [
    "sns.set(rc = {'figure.figsize':(100,6)})\n",
    "sns.lineplot(x=\"RetailerCode\", y=\"TotalProductQuantityinCases\", data=merged_df[:]);"
   ]
  },
  {
   "cell_type": "code",
   "execution_count": 65,
   "id": "3dc1cde0",
   "metadata": {
    "scrolled": true
   },
   "outputs": [
    {
     "name": "stdout",
     "output_type": "stream",
     "text": [
      "<class 'pandas.core.frame.DataFrame'>\n",
      "RangeIndex: 270053 entries, 0 to 270052\n",
      "Data columns (total 17 columns):\n",
      " #   Column                       Non-Null Count   Dtype  \n",
      "---  ------                       --------------   -----  \n",
      " 0   BACode                       270053 non-null  int64  \n",
      " 1   SalesInvoiceNo               270053 non-null  object \n",
      " 2   SalesInvoiceDate             270053 non-null  object \n",
      " 3   SalesmanCode                 270053 non-null  object \n",
      " 4   SalesRouteCode               270053 non-null  object \n",
      " 5   RetailerCode                 270053 non-null  float64\n",
      " 6   ClassName                    77278 non-null   object \n",
      " 7   BrandGroupName               77278 non-null   object \n",
      " 8   ProductGroupName             270053 non-null  object \n",
      " 9   ProductCode                  270053 non-null  object \n",
      " 10  ProductQuantityinBox         270053 non-null  int64  \n",
      " 11  ProductQuantityinNos         270053 non-null  int64  \n",
      " 12  TotalProductQuantityinCases  270053 non-null  float64\n",
      " 13  ProductSchemeDiscount        270053 non-null  float64\n",
      " 14  GroupCode                    192775 non-null  object \n",
      " 15  ClassName                    192775 non-null  object \n",
      " 16  BrandGroupName               192775 non-null  object \n",
      "dtypes: float64(3), int64(3), object(11)\n",
      "memory usage: 23.7+ MB\n"
     ]
    }
   ],
   "source": [
    "merged_df.info()"
   ]
  },
  {
   "cell_type": "markdown",
   "id": "8cb0fbb2",
   "metadata": {},
   "source": [
    "## Trend Over Time"
   ]
  },
  {
   "cell_type": "code",
   "execution_count": 66,
   "id": "fa98f311",
   "metadata": {},
   "outputs": [],
   "source": [
    "merged_df['SalesInvoiceDate'] = merged_df['SalesInvoiceDate'].str.replace('-', '')\n",
    "merged_df['SalesInvoiceDate'] = pd.to_datetime(merged_df['SalesInvoiceDate'],format='%d%m%y')"
   ]
  },
  {
   "cell_type": "code",
   "execution_count": 67,
   "id": "f5ceeeab",
   "metadata": {},
   "outputs": [],
   "source": [
    "merged_df['month_year'] = merged_df['SalesInvoiceDate'].apply(lambda x: x.strftime('%Y-%m'))"
   ]
  },
  {
   "cell_type": "code",
   "execution_count": 68,
   "id": "7a8d6d21",
   "metadata": {},
   "outputs": [],
   "source": [
    "df_temp = merged_df.groupby('month_year').sum()['TotalProductQuantityinCases'].reset_index()"
   ]
  },
  {
   "cell_type": "code",
   "execution_count": 69,
   "id": "4ca2abd6",
   "metadata": {
    "scrolled": true
   },
   "outputs": [
    {
     "data": {
      "image/png": "[encoded data removed]",
      "text/plain": [
       "<Figure size 1152x432 with 1 Axes>"
      ]
     },
     "metadata": {},
     "output_type": "display_data"
    }
   ],
   "source": [
    "plt.figure(figsize=(16, 6))\n",
    "plt.plot(df_temp['month_year'], df_temp['TotalProductQuantityinCases'], color='#b80045')\n",
    "plt.xticks(rotation='vertical', size=8)\n",
    "plt.show()"
   ]
  },
  {
   "cell_type": "markdown",
   "id": "54f1018f",
   "metadata": {},
   "source": [
    "## Most Selling Product "
   ]
  },
  {
   "cell_type": "code",
   "execution_count": 98,
   "id": "024a8855",
   "metadata": {},
   "outputs": [
    {
     "data": {
      "text/html": [
       "<div>\n",
       "<style scoped>\n",
       "    .dataframe tbody tr th:only-of-type {\n",
       "        vertical-align: middle;\n",
       "    }\n",
       "\n",
       "    .dataframe tbody tr th {\n",
       "        vertical-align: top;\n",
       "    }\n",
       "\n",
       "    .dataframe thead th {\n",
       "        text-align: right;\n",
       "    }\n",
       "</style>\n",
       "<table border=\"1\" class=\"dataframe\">\n",
       "  <thead>\n",
       "    <tr style=\"text-align: right;\">\n",
       "      <th></th>\n",
       "      <th>TotalProductQuantityinCases</th>\n",
       "    </tr>\n",
       "    <tr>\n",
       "      <th>ProductGroupName</th>\n",
       "      <th></th>\n",
       "    </tr>\n",
       "  </thead>\n",
       "  <tbody>\n",
       "    <tr>\n",
       "      <th>RSF 1Ltr</th>\n",
       "      <td>752624.1000</td>\n",
       "    </tr>\n",
       "    <tr>\n",
       "      <th>RSF 500ML</th>\n",
       "      <td>338461.7500</td>\n",
       "    </tr>\n",
       "    <tr>\n",
       "      <th>RSF 200ML</th>\n",
       "      <td>84248.4611</td>\n",
       "    </tr>\n",
       "    <tr>\n",
       "      <th>RSF 100ML</th>\n",
       "      <td>82207.3632</td>\n",
       "    </tr>\n",
       "    <tr>\n",
       "      <th>RSF 5Ltr Jar</th>\n",
       "      <td>76936.9935</td>\n",
       "    </tr>\n",
       "    <tr>\n",
       "      <th>DHEEPAM 1Ltr</th>\n",
       "      <td>16055.0000</td>\n",
       "    </tr>\n",
       "    <tr>\n",
       "      <th>DHEEPAM 500ML RGL</th>\n",
       "      <td>15423.6000</td>\n",
       "    </tr>\n",
       "    <tr>\n",
       "      <th>CARDIA LIFE 1 LTR</th>\n",
       "      <td>11587.9000</td>\n",
       "    </tr>\n",
       "    <tr>\n",
       "      <th>VSP 100ML</th>\n",
       "      <td>11480.0000</td>\n",
       "    </tr>\n",
       "    <tr>\n",
       "      <th>VSP 50ML</th>\n",
       "      <td>10813.7150</td>\n",
       "    </tr>\n",
       "  </tbody>\n",
       "</table>\n",
       "</div>"
      ],
      "text/plain": [
       "                   TotalProductQuantityinCases\n",
       "ProductGroupName                              \n",
       "RSF 1Ltr                           752624.1000\n",
       "RSF 500ML                          338461.7500\n",
       "RSF 200ML                           84248.4611\n",
       "RSF 100ML                           82207.3632\n",
       "RSF 5Ltr Jar                        76936.9935\n",
       "DHEEPAM 1Ltr                        16055.0000\n",
       "DHEEPAM 500ML RGL                   15423.6000\n",
       "CARDIA LIFE 1 LTR                   11587.9000\n",
       "VSP 100ML                           11480.0000\n",
       "VSP 50ML                            10813.7150"
      ]
     },
     "execution_count": 98,
     "metadata": {},
     "output_type": "execute_result"
    }
   ],
   "source": [
    "most_selling_prods = pd.DataFrame(merged_df.groupby('ProductGroupName').sum()['TotalProductQuantityinCases'])\n",
    "most_selling_prods.sort_values(by=['TotalProductQuantityinCases'], inplace=True, ascending=False)\n",
    "most_selling_prods[:10]"
   ]
  },
  {
   "cell_type": "markdown",
   "id": "5c444729",
   "metadata": {},
   "source": [
    "## Most Successful Salesman "
   ]
  },
  {
   "cell_type": "code",
   "execution_count": 100,
   "id": "a3cebdea",
   "metadata": {},
   "outputs": [
    {
     "data": {
      "text/html": [
       "<div>\n",
       "<style scoped>\n",
       "    .dataframe tbody tr th:only-of-type {\n",
       "        vertical-align: middle;\n",
       "    }\n",
       "\n",
       "    .dataframe tbody tr th {\n",
       "        vertical-align: top;\n",
       "    }\n",
       "\n",
       "    .dataframe thead th {\n",
       "        text-align: right;\n",
       "    }\n",
       "</style>\n",
       "<table border=\"1\" class=\"dataframe\">\n",
       "  <thead>\n",
       "    <tr style=\"text-align: right;\">\n",
       "      <th></th>\n",
       "      <th>TotalProductQuantityinCases</th>\n",
       "    </tr>\n",
       "    <tr>\n",
       "      <th>SalesmanCode</th>\n",
       "      <th></th>\n",
       "    </tr>\n",
       "  </thead>\n",
       "  <tbody>\n",
       "    <tr>\n",
       "      <th>SM02</th>\n",
       "      <td>307225.1505</td>\n",
       "    </tr>\n",
       "    <tr>\n",
       "      <th>SM01</th>\n",
       "      <td>266891.7573</td>\n",
       "    </tr>\n",
       "    <tr>\n",
       "      <th>SM03</th>\n",
       "      <td>193945.3416</td>\n",
       "    </tr>\n",
       "    <tr>\n",
       "      <th>ISR001</th>\n",
       "      <td>82900.0828</td>\n",
       "    </tr>\n",
       "    <tr>\n",
       "      <th>ISR03</th>\n",
       "      <td>72920.5625</td>\n",
       "    </tr>\n",
       "    <tr>\n",
       "      <th>ISR01</th>\n",
       "      <td>70067.3108</td>\n",
       "    </tr>\n",
       "    <tr>\n",
       "      <th>ISR003</th>\n",
       "      <td>67401.4835</td>\n",
       "    </tr>\n",
       "    <tr>\n",
       "      <th>ISR002</th>\n",
       "      <td>57304.0467</td>\n",
       "    </tr>\n",
       "    <tr>\n",
       "      <th>ISR02</th>\n",
       "      <td>54434.5488</td>\n",
       "    </tr>\n",
       "    <tr>\n",
       "      <th>1</th>\n",
       "      <td>53660.7764</td>\n",
       "    </tr>\n",
       "  </tbody>\n",
       "</table>\n",
       "</div>"
      ],
      "text/plain": [
       "              TotalProductQuantityinCases\n",
       "SalesmanCode                             \n",
       "SM02                          307225.1505\n",
       "SM01                          266891.7573\n",
       "SM03                          193945.3416\n",
       "ISR001                         82900.0828\n",
       "ISR03                          72920.5625\n",
       "ISR01                          70067.3108\n",
       "ISR003                         67401.4835\n",
       "ISR002                         57304.0467\n",
       "ISR02                          54434.5488\n",
       "1                              53660.7764"
      ]
     },
     "execution_count": 100,
     "metadata": {},
     "output_type": "execute_result"
    }
   ],
   "source": [
    "best_selling_salesman_code = pd.DataFrame(merged_df.groupby('SalesmanCode').sum()['TotalProductQuantityinCases'])\n",
    "best_selling_salesman_code.sort_values(by=['TotalProductQuantityinCases'], inplace=True, ascending=False)\n",
    "best_selling_salesman_code[:10]"
   ]
  },
  {
   "cell_type": "code",
   "execution_count": 101,
   "id": "ac9f3051",
   "metadata": {},
   "outputs": [
    {
     "data": {
      "text/plain": [
       "'RAJA'"
      ]
     },
     "execution_count": 101,
     "metadata": {},
     "output_type": "execute_result"
    }
   ],
   "source": [
    "salesman_salescode.get('SM02')"
   ]
  },
  {
   "cell_type": "markdown",
   "id": "ede5b6f7",
   "metadata": {},
   "source": [
    "# Most Successful BA"
   ]
  },
  {
   "cell_type": "code",
   "execution_count": 73,
   "id": "55ac81e7",
   "metadata": {},
   "outputs": [
    {
     "data": {
      "text/html": [
       "<div>\n",
       "<style scoped>\n",
       "    .dataframe tbody tr th:only-of-type {\n",
       "        vertical-align: middle;\n",
       "    }\n",
       "\n",
       "    .dataframe tbody tr th {\n",
       "        vertical-align: top;\n",
       "    }\n",
       "\n",
       "    .dataframe thead th {\n",
       "        text-align: right;\n",
       "    }\n",
       "</style>\n",
       "<table border=\"1\" class=\"dataframe\">\n",
       "  <thead>\n",
       "    <tr style=\"text-align: right;\">\n",
       "      <th></th>\n",
       "      <th>TotalProductQuantityinCases</th>\n",
       "    </tr>\n",
       "    <tr>\n",
       "      <th>BACode</th>\n",
       "      <th></th>\n",
       "    </tr>\n",
       "  </thead>\n",
       "  <tbody>\n",
       "    <tr>\n",
       "      <th>22591</th>\n",
       "      <td>145462.9612</td>\n",
       "    </tr>\n",
       "    <tr>\n",
       "      <th>22641</th>\n",
       "      <td>143344.6477</td>\n",
       "    </tr>\n",
       "    <tr>\n",
       "      <th>22667</th>\n",
       "      <td>123912.8184</td>\n",
       "    </tr>\n",
       "    <tr>\n",
       "      <th>22657</th>\n",
       "      <td>115150.1505</td>\n",
       "    </tr>\n",
       "    <tr>\n",
       "      <th>22520</th>\n",
       "      <td>93480.1116</td>\n",
       "    </tr>\n",
       "    <tr>\n",
       "      <th>22703</th>\n",
       "      <td>92455.4625</td>\n",
       "    </tr>\n",
       "    <tr>\n",
       "      <th>24687</th>\n",
       "      <td>92001.2186</td>\n",
       "    </tr>\n",
       "    <tr>\n",
       "      <th>22644</th>\n",
       "      <td>88102.2643</td>\n",
       "    </tr>\n",
       "    <tr>\n",
       "      <th>25567</th>\n",
       "      <td>71749.8786</td>\n",
       "    </tr>\n",
       "    <tr>\n",
       "      <th>23010</th>\n",
       "      <td>68869.6146</td>\n",
       "    </tr>\n",
       "  </tbody>\n",
       "</table>\n",
       "</div>"
      ],
      "text/plain": [
       "        TotalProductQuantityinCases\n",
       "BACode                             \n",
       "22591                   145462.9612\n",
       "22641                   143344.6477\n",
       "22667                   123912.8184\n",
       "22657                   115150.1505\n",
       "22520                    93480.1116\n",
       "22703                    92455.4625\n",
       "24687                    92001.2186\n",
       "22644                    88102.2643\n",
       "25567                    71749.8786\n",
       "23010                    68869.6146"
      ]
     },
     "execution_count": 73,
     "metadata": {},
     "output_type": "execute_result"
    }
   ],
   "source": [
    "best_selling_prods = pd.DataFrame(merged_df.groupby('BACode').sum()['TotalProductQuantityinCases'])\n",
    "best_selling_prods.sort_values(by=['TotalProductQuantityinCases'], inplace=True, ascending=False)\n",
    "best_selling_prods[:10]"
   ]
  },
  {
   "cell_type": "code",
   "execution_count": 91,
   "id": "f01857c1",
   "metadata": {},
   "outputs": [
    {
     "data": {
      "text/plain": [
       "'Eswari Agency(BA)'"
      ]
     },
     "execution_count": 91,
     "metadata": {},
     "output_type": "execute_result"
    }
   ],
   "source": [
    "ba_mapping.get(22591)"
   ]
  },
  {
   "cell_type": "code",
   "execution_count": 90,
   "id": "d1f51e6e",
   "metadata": {
    "scrolled": true
   },
   "outputs": [
    {
     "data": {
      "text/plain": [
       "{22520: 'Ganesh Agencies(BA)',\n",
       " 25591: 'Rohitha Agencies(BA)',\n",
       " 23072: 'Surya Agency(BA)',\n",
       " 22975: 'Naveen Agency(BA)',\n",
       " 25303: 'Vimala Associates(BA)',\n",
       " 23010: 'Geetha Agencies(BA)',\n",
       " 22766: 'Sri Siba Marketing(BA)',\n",
       " 24687: 'Aanjaneya Enterprises(BA)',\n",
       " 22591: 'Eswari Agency(BA)',\n",
       " 24461: 'AVM Agencies(BA)',\n",
       " 22641: 'Lakshmi Agencies(BA)',\n",
       " 22644: 'Shrii Balaji Enterprises(BA)',\n",
       " 22657: 'Jeevan Agency(BA)',\n",
       " 22667: 'S.G.S Oil Traders(BA)',\n",
       " 25567: 'Vijayaganapathy Enterprises(BA)',\n",
       " 24314: 'Shree Agarwal Trading Co(BA)',\n",
       " 22703: 'Iraivi Enterprises(BA)',\n",
       " 24532: 'Sri Ganga Agencies(BA)',\n",
       " 22819: 'Vijayalakshmi Agency(BA)',\n",
       " 24875: 'Sun Tej Agencies(BA)'}"
      ]
     },
     "execution_count": 90,
     "metadata": {},
     "output_type": "execute_result"
    }
   ],
   "source": [
    "ba_mapping"
   ]
  },
  {
   "cell_type": "markdown",
   "id": "8a374c3e",
   "metadata": {},
   "source": [
    "# most popular sales route"
   ]
  },
  {
   "cell_type": "code",
   "execution_count": 96,
   "id": "c9dbb982",
   "metadata": {
    "scrolled": true
   },
   "outputs": [
    {
     "data": {
      "text/html": [
       "<div>\n",
       "<style scoped>\n",
       "    .dataframe tbody tr th:only-of-type {\n",
       "        vertical-align: middle;\n",
       "    }\n",
       "\n",
       "    .dataframe tbody tr th {\n",
       "        vertical-align: top;\n",
       "    }\n",
       "\n",
       "    .dataframe thead th {\n",
       "        text-align: right;\n",
       "    }\n",
       "</style>\n",
       "<table border=\"1\" class=\"dataframe\">\n",
       "  <thead>\n",
       "    <tr style=\"text-align: right;\">\n",
       "      <th></th>\n",
       "      <th>BACode</th>\n",
       "      <th>SalesInvoiceNo</th>\n",
       "      <th>SalesInvoiceDate</th>\n",
       "      <th>SalesmanCode</th>\n",
       "      <th>RetailerCode</th>\n",
       "      <th>ClassName</th>\n",
       "      <th>BrandGroupName</th>\n",
       "      <th>ProductGroupName</th>\n",
       "      <th>ProductCode</th>\n",
       "      <th>ProductQuantityinBox</th>\n",
       "      <th>ProductQuantityinNos</th>\n",
       "      <th>TotalProductQuantityinCases</th>\n",
       "      <th>ProductSchemeDiscount</th>\n",
       "      <th>GroupCode</th>\n",
       "      <th>ClassName</th>\n",
       "      <th>BrandGroupName</th>\n",
       "      <th>month_year</th>\n",
       "    </tr>\n",
       "    <tr>\n",
       "      <th>SalesRouteCode</th>\n",
       "      <th></th>\n",
       "      <th></th>\n",
       "      <th></th>\n",
       "      <th></th>\n",
       "      <th></th>\n",
       "      <th></th>\n",
       "      <th></th>\n",
       "      <th></th>\n",
       "      <th></th>\n",
       "      <th></th>\n",
       "      <th></th>\n",
       "      <th></th>\n",
       "      <th></th>\n",
       "      <th></th>\n",
       "      <th></th>\n",
       "      <th></th>\n",
       "      <th></th>\n",
       "    </tr>\n",
       "  </thead>\n",
       "  <tbody>\n",
       "    <tr>\n",
       "      <th>SR15</th>\n",
       "      <td>1644</td>\n",
       "      <td>1644</td>\n",
       "      <td>1644</td>\n",
       "      <td>1644</td>\n",
       "      <td>1644</td>\n",
       "      <td>34</td>\n",
       "      <td>34</td>\n",
       "      <td>1644</td>\n",
       "      <td>1644</td>\n",
       "      <td>1644</td>\n",
       "      <td>1644</td>\n",
       "      <td>1644</td>\n",
       "      <td>1644</td>\n",
       "      <td>1610</td>\n",
       "      <td>1610</td>\n",
       "      <td>1610</td>\n",
       "      <td>1644</td>\n",
       "    </tr>\n",
       "    <tr>\n",
       "      <th>SR14</th>\n",
       "      <td>1156</td>\n",
       "      <td>1156</td>\n",
       "      <td>1156</td>\n",
       "      <td>1156</td>\n",
       "      <td>1156</td>\n",
       "      <td>268</td>\n",
       "      <td>268</td>\n",
       "      <td>1156</td>\n",
       "      <td>1156</td>\n",
       "      <td>1156</td>\n",
       "      <td>1156</td>\n",
       "      <td>1156</td>\n",
       "      <td>1156</td>\n",
       "      <td>888</td>\n",
       "      <td>888</td>\n",
       "      <td>888</td>\n",
       "      <td>1156</td>\n",
       "    </tr>\n",
       "    <tr>\n",
       "      <th>SR13</th>\n",
       "      <td>1215</td>\n",
       "      <td>1215</td>\n",
       "      <td>1215</td>\n",
       "      <td>1215</td>\n",
       "      <td>1215</td>\n",
       "      <td>79</td>\n",
       "      <td>79</td>\n",
       "      <td>1215</td>\n",
       "      <td>1215</td>\n",
       "      <td>1215</td>\n",
       "      <td>1215</td>\n",
       "      <td>1215</td>\n",
       "      <td>1215</td>\n",
       "      <td>1136</td>\n",
       "      <td>1136</td>\n",
       "      <td>1136</td>\n",
       "      <td>1215</td>\n",
       "    </tr>\n",
       "    <tr>\n",
       "      <th>SR12</th>\n",
       "      <td>929</td>\n",
       "      <td>929</td>\n",
       "      <td>929</td>\n",
       "      <td>929</td>\n",
       "      <td>929</td>\n",
       "      <td>226</td>\n",
       "      <td>226</td>\n",
       "      <td>929</td>\n",
       "      <td>929</td>\n",
       "      <td>929</td>\n",
       "      <td>929</td>\n",
       "      <td>929</td>\n",
       "      <td>929</td>\n",
       "      <td>703</td>\n",
       "      <td>703</td>\n",
       "      <td>703</td>\n",
       "      <td>929</td>\n",
       "    </tr>\n",
       "    <tr>\n",
       "      <th>SR11</th>\n",
       "      <td>2401</td>\n",
       "      <td>2401</td>\n",
       "      <td>2401</td>\n",
       "      <td>2401</td>\n",
       "      <td>2401</td>\n",
       "      <td>810</td>\n",
       "      <td>810</td>\n",
       "      <td>2401</td>\n",
       "      <td>2401</td>\n",
       "      <td>2401</td>\n",
       "      <td>2401</td>\n",
       "      <td>2401</td>\n",
       "      <td>2401</td>\n",
       "      <td>1591</td>\n",
       "      <td>1591</td>\n",
       "      <td>1591</td>\n",
       "      <td>2401</td>\n",
       "    </tr>\n",
       "    <tr>\n",
       "      <th>SR10</th>\n",
       "      <td>2100</td>\n",
       "      <td>2100</td>\n",
       "      <td>2100</td>\n",
       "      <td>2100</td>\n",
       "      <td>2100</td>\n",
       "      <td>739</td>\n",
       "      <td>739</td>\n",
       "      <td>2100</td>\n",
       "      <td>2100</td>\n",
       "      <td>2100</td>\n",
       "      <td>2100</td>\n",
       "      <td>2100</td>\n",
       "      <td>2100</td>\n",
       "      <td>1361</td>\n",
       "      <td>1361</td>\n",
       "      <td>1361</td>\n",
       "      <td>2100</td>\n",
       "    </tr>\n",
       "    <tr>\n",
       "      <th>SR09-0000023072</th>\n",
       "      <td>733</td>\n",
       "      <td>733</td>\n",
       "      <td>733</td>\n",
       "      <td>733</td>\n",
       "      <td>733</td>\n",
       "      <td>584</td>\n",
       "      <td>584</td>\n",
       "      <td>733</td>\n",
       "      <td>733</td>\n",
       "      <td>733</td>\n",
       "      <td>733</td>\n",
       "      <td>733</td>\n",
       "      <td>733</td>\n",
       "      <td>149</td>\n",
       "      <td>149</td>\n",
       "      <td>149</td>\n",
       "      <td>733</td>\n",
       "    </tr>\n",
       "    <tr>\n",
       "      <th>SR09</th>\n",
       "      <td>2013</td>\n",
       "      <td>2013</td>\n",
       "      <td>2013</td>\n",
       "      <td>2013</td>\n",
       "      <td>2013</td>\n",
       "      <td>520</td>\n",
       "      <td>520</td>\n",
       "      <td>2013</td>\n",
       "      <td>2013</td>\n",
       "      <td>2013</td>\n",
       "      <td>2013</td>\n",
       "      <td>2013</td>\n",
       "      <td>2013</td>\n",
       "      <td>1493</td>\n",
       "      <td>1493</td>\n",
       "      <td>1493</td>\n",
       "      <td>2013</td>\n",
       "    </tr>\n",
       "    <tr>\n",
       "      <th>SR08-0000023072</th>\n",
       "      <td>643</td>\n",
       "      <td>643</td>\n",
       "      <td>643</td>\n",
       "      <td>643</td>\n",
       "      <td>643</td>\n",
       "      <td>405</td>\n",
       "      <td>405</td>\n",
       "      <td>643</td>\n",
       "      <td>643</td>\n",
       "      <td>643</td>\n",
       "      <td>643</td>\n",
       "      <td>643</td>\n",
       "      <td>643</td>\n",
       "      <td>238</td>\n",
       "      <td>238</td>\n",
       "      <td>238</td>\n",
       "      <td>643</td>\n",
       "    </tr>\n",
       "    <tr>\n",
       "      <th>SR08-0000023010</th>\n",
       "      <td>102</td>\n",
       "      <td>102</td>\n",
       "      <td>102</td>\n",
       "      <td>102</td>\n",
       "      <td>102</td>\n",
       "      <td>57</td>\n",
       "      <td>57</td>\n",
       "      <td>102</td>\n",
       "      <td>102</td>\n",
       "      <td>102</td>\n",
       "      <td>102</td>\n",
       "      <td>102</td>\n",
       "      <td>102</td>\n",
       "      <td>45</td>\n",
       "      <td>45</td>\n",
       "      <td>45</td>\n",
       "      <td>102</td>\n",
       "    </tr>\n",
       "  </tbody>\n",
       "</table>\n",
       "</div>"
      ],
      "text/plain": [
       "                 BACode  SalesInvoiceNo  SalesInvoiceDate  SalesmanCode  \\\n",
       "SalesRouteCode                                                            \n",
       "SR15               1644            1644              1644          1644   \n",
       "SR14               1156            1156              1156          1156   \n",
       "SR13               1215            1215              1215          1215   \n",
       "SR12                929             929               929           929   \n",
       "SR11               2401            2401              2401          2401   \n",
       "SR10               2100            2100              2100          2100   \n",
       "SR09-0000023072     733             733               733           733   \n",
       "SR09               2013            2013              2013          2013   \n",
       "SR08-0000023072     643             643               643           643   \n",
       "SR08-0000023010     102             102               102           102   \n",
       "\n",
       "                 RetailerCode  ClassName  BrandGroupName  ProductGroupName  \\\n",
       "SalesRouteCode                                                               \n",
       "SR15                     1644         34              34              1644   \n",
       "SR14                     1156        268             268              1156   \n",
       "SR13                     1215         79              79              1215   \n",
       "SR12                      929        226             226               929   \n",
       "SR11                     2401        810             810              2401   \n",
       "SR10                     2100        739             739              2100   \n",
       "SR09-0000023072           733        584             584               733   \n",
       "SR09                     2013        520             520              2013   \n",
       "SR08-0000023072           643        405             405               643   \n",
       "SR08-0000023010           102         57              57               102   \n",
       "\n",
       "                 ProductCode  ProductQuantityinBox  ProductQuantityinNos  \\\n",
       "SalesRouteCode                                                             \n",
       "SR15                    1644                  1644                  1644   \n",
       "SR14                    1156                  1156                  1156   \n",
       "SR13                    1215                  1215                  1215   \n",
       "SR12                     929                   929                   929   \n",
       "SR11                    2401                  2401                  2401   \n",
       "SR10                    2100                  2100                  2100   \n",
       "SR09-0000023072          733                   733                   733   \n",
       "SR09                    2013                  2013                  2013   \n",
       "SR08-0000023072          643                   643                   643   \n",
       "SR08-0000023010          102                   102                   102   \n",
       "\n",
       "                 TotalProductQuantityinCases  ProductSchemeDiscount  \\\n",
       "SalesRouteCode                                                        \n",
       "SR15                                    1644                   1644   \n",
       "SR14                                    1156                   1156   \n",
       "SR13                                    1215                   1215   \n",
       "SR12                                     929                    929   \n",
       "SR11                                    2401                   2401   \n",
       "SR10                                    2100                   2100   \n",
       "SR09-0000023072                          733                    733   \n",
       "SR09                                    2013                   2013   \n",
       "SR08-0000023072                          643                    643   \n",
       "SR08-0000023010                          102                    102   \n",
       "\n",
       "                 GroupCode  ClassName  BrandGroupName  month_year  \n",
       "SalesRouteCode                                                     \n",
       "SR15                  1610       1610            1610        1644  \n",
       "SR14                   888        888             888        1156  \n",
       "SR13                  1136       1136            1136        1215  \n",
       "SR12                   703        703             703         929  \n",
       "SR11                  1591       1591            1591        2401  \n",
       "SR10                  1361       1361            1361        2100  \n",
       "SR09-0000023072        149        149             149         733  \n",
       "SR09                  1493       1493            1493        2013  \n",
       "SR08-0000023072        238        238             238         643  \n",
       "SR08-0000023010         45         45              45         102  "
      ]
     },
     "execution_count": 96,
     "metadata": {},
     "output_type": "execute_result"
    }
   ],
   "source": [
    "sr_code=merged_df.groupby('SalesRouteCode').count()\n",
    "sr_code.sort_values(by=['SalesRouteCode'], inplace=True, ascending=False)\n",
    "sr_code[:10]"
   ]
  },
  {
   "cell_type": "code",
   "execution_count": 97,
   "id": "467fa406",
   "metadata": {},
   "outputs": [
    {
     "data": {
      "text/html": [
       "<div>\n",
       "<style scoped>\n",
       "    .dataframe tbody tr th:only-of-type {\n",
       "        vertical-align: middle;\n",
       "    }\n",
       "\n",
       "    .dataframe tbody tr th {\n",
       "        vertical-align: top;\n",
       "    }\n",
       "\n",
       "    .dataframe thead th {\n",
       "        text-align: right;\n",
       "    }\n",
       "</style>\n",
       "<table border=\"1\" class=\"dataframe\">\n",
       "  <thead>\n",
       "    <tr style=\"text-align: right;\">\n",
       "      <th></th>\n",
       "      <th>TotalProductQuantityinCases</th>\n",
       "    </tr>\n",
       "    <tr>\n",
       "      <th>SalesRouteCode</th>\n",
       "      <th></th>\n",
       "    </tr>\n",
       "  </thead>\n",
       "  <tbody>\n",
       "    <tr>\n",
       "      <th>SR011</th>\n",
       "      <td>103993.4289</td>\n",
       "    </tr>\n",
       "    <tr>\n",
       "      <th>SR014</th>\n",
       "      <td>100535.9810</td>\n",
       "    </tr>\n",
       "    <tr>\n",
       "      <th>SR005</th>\n",
       "      <td>85566.4364</td>\n",
       "    </tr>\n",
       "    <tr>\n",
       "      <th>SR007</th>\n",
       "      <td>76603.2860</td>\n",
       "    </tr>\n",
       "    <tr>\n",
       "      <th>SR006</th>\n",
       "      <td>75134.3589</td>\n",
       "    </tr>\n",
       "    <tr>\n",
       "      <th>SR003</th>\n",
       "      <td>69180.2912</td>\n",
       "    </tr>\n",
       "    <tr>\n",
       "      <th>SR015</th>\n",
       "      <td>64615.8289</td>\n",
       "    </tr>\n",
       "    <tr>\n",
       "      <th>SR002</th>\n",
       "      <td>63609.3835</td>\n",
       "    </tr>\n",
       "    <tr>\n",
       "      <th>SR012</th>\n",
       "      <td>60581.8204</td>\n",
       "    </tr>\n",
       "    <tr>\n",
       "      <th>SR004</th>\n",
       "      <td>57662.1276</td>\n",
       "    </tr>\n",
       "  </tbody>\n",
       "</table>\n",
       "</div>"
      ],
      "text/plain": [
       "                TotalProductQuantityinCases\n",
       "SalesRouteCode                             \n",
       "SR011                           103993.4289\n",
       "SR014                           100535.9810\n",
       "SR005                            85566.4364\n",
       "SR007                            76603.2860\n",
       "SR006                            75134.3589\n",
       "SR003                            69180.2912\n",
       "SR015                            64615.8289\n",
       "SR002                            63609.3835\n",
       "SR012                            60581.8204\n",
       "SR004                            57662.1276"
      ]
     },
     "execution_count": 97,
     "metadata": {},
     "output_type": "execute_result"
    }
   ],
   "source": [
    "sr_code=pd.DataFrame(merged_df.groupby('SalesRouteCode').sum()['TotalProductQuantityinCases'])\n",
    "sr_code.sort_values(by=['TotalProductQuantityinCases'], inplace=True, ascending=False)\n",
    "sr_code[:10]"
   ]
  },
  {
   "cell_type": "code",
   "execution_count": null,
   "id": "75cf17f4",
   "metadata": {},
   "outputs": [],
   "source": []
  }
 ],
 "metadata": {
  "kernelspec": {
   "display_name": "Python 3",
   "language": "python",
   "name": "python3"
  },
  "language_info": {
   "codemirror_mode": {
    "name": "ipython",
    "version": 3
   },
   "file_extension": ".py",
   "mimetype": "text/x-python",
   "name": "python",
   "nbconvert_exporter": "python",
   "pygments_lexer": "ipython3",
   "version": "3.8.8"
  }
 },
 "nbformat": 4,
 "nbformat_minor": 5
}
